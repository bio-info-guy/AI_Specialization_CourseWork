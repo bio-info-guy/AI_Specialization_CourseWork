{
 "cells": [
  {
   "cell_type": "code",
   "execution_count": 6,
   "metadata": {
    "collapsed": true
   },
   "outputs": [],
   "source": [
    "from copy import deepcopy as copy\n",
    "import numpy as np\n",
    "import operator\n",
    "class eightPuzzleAgent:\n",
    "    \n",
    "    def __init__(self, heuristic='manhattan', solution=np.array([[1,2,3],[4,5,6],[7,8,0]])):\n",
    "        self.heuristic=self.manhattan if heuristic == 'manhattan' else self.displacement\n",
    "        self.solution=solution\n",
    "        self.history=[]\n",
    "        self._nodes_expanded=0\n",
    "        self._total_uniq_nodes=0\n",
    "        self._total_nodes=0\n",
    "        \n",
    "        \n",
    "    def manhattan(self, array):\n",
    "        dist=0\n",
    "        for i in [1,2,3,4,5,6,7,8]:\n",
    "            horizontal=np.absolute(int(np.where(self.solution == i)[0]-np.where(array == i)[0]))\n",
    "            vertical=np.absolute(int(np.where(self.solution == i)[1]-np.where(array == i)[1]))\n",
    "            dist += horizontal+vertical\n",
    "        return dist\n",
    "            \n",
    "    def displacement(self, array):\n",
    "        return np.sum(np.int0((self.solution-array) != 0))\n",
    "    \n",
    "    def switchNumbers(self, node, i, j, k, l):\n",
    "        newarray=copy(node.array)\n",
    "        newarray[k, l], newarray[i, j] = newarray[i, j],  newarray[k, l]\n",
    "        return newarray\n",
    "    \n",
    "    def clear_hist(self):\n",
    "        self.history=[]\n",
    "        \n",
    "    def check_goal(self, node):\n",
    "        if list(np.ndarray.flatten(node.array)) == list(np.ndarray.flatten(self.solution)):\n",
    "            return True\n",
    "        return False\n",
    "    \n",
    "    def check_hist(self, node):\n",
    "        if list(np.ndarray.flatten(node.array)) in self.history:\n",
    "            return True\n",
    "        return False\n",
    "    \n",
    "    def generateChild(self, node): # expand a node into a list of its children nodes\n",
    "        children=[]\n",
    "        i, j = int(np.where(node.array == 0)[0]), int(np.where(node.array == 0)[1]) # find the empty square on the node's board matrix\n",
    "        if i+1 <= 2:\n",
    "            children.append(eightPuzzleNode(array=self.switchNumbers(node, i, j, i+1, j), parent=node, depth=node.depth+1))\n",
    "        if i-1 >= 0:\n",
    "            children.append(eightPuzzleNode(array=self.switchNumbers(node, i, j, i-1, j), parent=node, depth=node.depth+1))\n",
    "        if j+1 <= 2:\n",
    "            children.append(eightPuzzleNode(array=self.switchNumbers(node, i, j, i, j+1), parent=node, depth=node.depth+1))\n",
    "        if j-1 <= 2:\n",
    "            children.append(eightPuzzleNode(array=self.switchNumbers(node, i, j, i, j-1), parent=node, depth=node.depth+1))\n",
    "        return children\n",
    "    \n",
    "    def output_result(self, node):\n",
    "        arrays=[]\n",
    "        while node != None:\n",
    "            arrays.append(node)\n",
    "            node=node.parent\n",
    "        arrays.reverse()\n",
    "        for i in range(len(arrays)):\n",
    "            print('step number '+str(i)+' at depth '+str(arrays[i].depth)+': ')\n",
    "            print(arrays[i].array)\n",
    "        print('total number of nodes generated: '+str(self._total_nodes))\n",
    "        print('total number of unique nodes generated: '+str(self._total_uniq_nodes))\n",
    "        print('total number of nodes expanded: '+str(self._nodes_expanded))\n",
    "    \n",
    "    def AstarSolver(self, node):\n",
    "        if self.check_goal(node):\n",
    "            self.output_result(node)\n",
    "            return \n",
    "        Frontier=[]\n",
    "        if not self.check_hist(node):\n",
    "            self.history.append(list(np.ndarray.flatten(node.array)))\n",
    "        Frontier.append(node.set_cost(self.heuristic(node.array)))\n",
    "        while len(Frontier) != 0:\n",
    "            Frontier.sort(key=operator.attrgetter('cost')) # sort the frontier by the cost of the nodes \n",
    "            node=Frontier.pop(0) # chose the node with the lowest cost\n",
    "            children=self.generateChild(node)\n",
    "            self._nodes_expanded += 1\n",
    "            self._total_nodes += len(children)\n",
    "            newchildren=[]\n",
    "\n",
    "            for i in range(len(children)):\n",
    "                if self.check_goal(children[i]): # check if one of the expanded children is the solution\n",
    "                    self.output_result(children[i])\n",
    "                    return\n",
    "                elif not self.check_hist(children[i]): # check if the children node has been seen before\n",
    "                    newchildren.append(children[i])\n",
    "                    self.history.append(list(np.ndarray.flatten(children[i].array))) # add the node's array to history\n",
    "            self._total_uniq_nodes += len(newchildren) \n",
    "            for c in newchildren:\n",
    "                Frontier.append(c.set_cost(self.heuristic(c.array)+node.depth)) # insert the new child nodes into the frontier\n",
    "\n",
    "        \n",
    "class eightPuzzleNode:\n",
    "    \n",
    "    def __init__(self, file=None, array=None, parent=None, depth=0):\n",
    "        if np.any(array) != None:\n",
    "            assert array.shape == (3,3), 'the input board is not 3 by 3'\n",
    "            self.array=array\n",
    "        else:\n",
    "            a=[]\n",
    "            for line in open(file):\n",
    "                a.extend(list(line))\n",
    "            a=np.array([int(i) for i in a]).reshape((3,3))\n",
    "        self.parent=parent\n",
    "        self.depth=depth\n",
    "\n",
    "    def set_cost(self, cost):\n",
    "        self.cost=cost\n",
    "        return self"
   ]
  },
  {
   "cell_type": "markdown",
   "metadata": {},
   "source": [
    "## solution for the examples provided by the TA:\n",
    "** First example is: start from [[1,2,3],[7,4,5],[6,8,0]], end with [[1,2,3],[8,6,4],[7,5,0]] **"
   ]
  },
  {
   "cell_type": "markdown",
   "metadata": {},
   "source": [
    "** with displacement **"
   ]
  },
  {
   "cell_type": "code",
   "execution_count": 10,
   "metadata": {},
   "outputs": [
    {
     "name": "stdout",
     "output_type": "stream",
     "text": [
      "step number 0 at depth 0: \n",
      "[[1 2 3]\n",
      " [7 4 5]\n",
      " [6 8 0]]\n",
      "step number 1 at depth 1: \n",
      "[[1 2 3]\n",
      " [7 4 0]\n",
      " [6 8 5]]\n",
      "step number 2 at depth 2: \n",
      "[[1 2 3]\n",
      " [7 0 4]\n",
      " [6 8 5]]\n",
      "step number 3 at depth 3: \n",
      "[[1 2 3]\n",
      " [7 8 4]\n",
      " [6 0 5]]\n",
      "step number 4 at depth 4: \n",
      "[[1 2 3]\n",
      " [7 8 4]\n",
      " [0 6 5]]\n",
      "step number 5 at depth 5: \n",
      "[[1 2 3]\n",
      " [0 8 4]\n",
      " [7 6 5]]\n",
      "step number 6 at depth 6: \n",
      "[[1 2 3]\n",
      " [8 0 4]\n",
      " [7 6 5]]\n",
      "step number 7 at depth 7: \n",
      "[[1 2 3]\n",
      " [8 6 4]\n",
      " [7 0 5]]\n",
      "step number 8 at depth 8: \n",
      "[[1 2 3]\n",
      " [8 6 4]\n",
      " [7 5 0]]\n",
      "total number of nodes generated: 90\n",
      "total number of unique nodes generated: 63\n",
      "total number of nodes expanded: 30\n"
     ]
    }
   ],
   "source": [
    "problem=np.array([[1,2,3],[7,4,5],[6,8,0]])\n",
    "n=eightPuzzleNode(array=problem)\n",
    "agent=eightPuzzleAgent(heuristic='displacement', solution=np.array([[1,2,3],[8,6,4],[7,5,0]]))\n",
    "agent.AstarSolver(n)"
   ]
  },
  {
   "cell_type": "markdown",
   "metadata": {},
   "source": [
    "** with manhattan distance **"
   ]
  },
  {
   "cell_type": "code",
   "execution_count": 9,
   "metadata": {},
   "outputs": [
    {
     "name": "stdout",
     "output_type": "stream",
     "text": [
      "step number 0 at depth 0: \n",
      "[[1 2 3]\n",
      " [7 4 5]\n",
      " [6 8 0]]\n",
      "step number 1 at depth 1: \n",
      "[[1 2 3]\n",
      " [7 4 0]\n",
      " [6 8 5]]\n",
      "step number 2 at depth 2: \n",
      "[[1 2 3]\n",
      " [7 0 4]\n",
      " [6 8 5]]\n",
      "step number 3 at depth 3: \n",
      "[[1 2 3]\n",
      " [7 8 4]\n",
      " [6 0 5]]\n",
      "step number 4 at depth 4: \n",
      "[[1 2 3]\n",
      " [7 8 4]\n",
      " [0 6 5]]\n",
      "step number 5 at depth 5: \n",
      "[[1 2 3]\n",
      " [0 8 4]\n",
      " [7 6 5]]\n",
      "step number 6 at depth 6: \n",
      "[[1 2 3]\n",
      " [8 0 4]\n",
      " [7 6 5]]\n",
      "step number 7 at depth 7: \n",
      "[[1 2 3]\n",
      " [8 6 4]\n",
      " [7 0 5]]\n",
      "step number 8 at depth 8: \n",
      "[[1 2 3]\n",
      " [8 6 4]\n",
      " [7 5 0]]\n",
      "total number of nodes generated: 28\n",
      "total number of unique nodes generated: 18\n",
      "total number of nodes expanded: 9\n"
     ]
    }
   ],
   "source": [
    "problem=np.array([[1,2,3],[7,4,5],[6,8,0]])\n",
    "n=eightPuzzleNode(array=problem)\n",
    "agent=eightPuzzleAgent(heuristic='manhattan', solution=np.array([[1,2,3],[8,6,4],[7,5,0]]))\n",
    "agent.AstarSolver(n)"
   ]
  },
  {
   "cell_type": "markdown",
   "metadata": {},
   "source": [
    "** Second example: start from [[2,8,1],[3,4,6],[7,5,0]], end with  [[3,2,1],[8,0,4],[7,5,6]] **"
   ]
  },
  {
   "cell_type": "markdown",
   "metadata": {},
   "source": [
    "** with displacement **"
   ]
  },
  {
   "cell_type": "code",
   "execution_count": 11,
   "metadata": {},
   "outputs": [
    {
     "name": "stdout",
     "output_type": "stream",
     "text": [
      "step number 0 at depth 0: \n",
      "[[2 8 1]\n",
      " [3 4 6]\n",
      " [7 5 0]]\n",
      "step number 1 at depth 1: \n",
      "[[2 8 1]\n",
      " [3 4 0]\n",
      " [7 5 6]]\n",
      "step number 2 at depth 2: \n",
      "[[2 8 1]\n",
      " [3 0 4]\n",
      " [7 5 6]]\n",
      "step number 3 at depth 3: \n",
      "[[2 0 1]\n",
      " [3 8 4]\n",
      " [7 5 6]]\n",
      "step number 4 at depth 4: \n",
      "[[0 2 1]\n",
      " [3 8 4]\n",
      " [7 5 6]]\n",
      "step number 5 at depth 5: \n",
      "[[3 2 1]\n",
      " [0 8 4]\n",
      " [7 5 6]]\n",
      "step number 6 at depth 6: \n",
      "[[3 2 1]\n",
      " [8 0 4]\n",
      " [7 5 6]]\n",
      "total number of nodes generated: 23\n",
      "total number of unique nodes generated: 14\n",
      "total number of nodes expanded: 7\n"
     ]
    }
   ],
   "source": [
    "problem=np.array([[2,8,1],[3,4,6],[7,5,0]])\n",
    "n=eightPuzzleNode(array=problem)\n",
    "agent=eightPuzzleAgent(heuristic='displacement', solution=np.array([[3,2,1],[8,0,4],[7,5,6]]))\n",
    "agent.AstarSolver(n)"
   ]
  },
  {
   "cell_type": "markdown",
   "metadata": {},
   "source": [
    "** with manhattan distance **"
   ]
  },
  {
   "cell_type": "code",
   "execution_count": 12,
   "metadata": {},
   "outputs": [
    {
     "name": "stdout",
     "output_type": "stream",
     "text": [
      "step number 0 at depth 0: \n",
      "[[2 8 1]\n",
      " [3 4 6]\n",
      " [7 5 0]]\n",
      "step number 1 at depth 1: \n",
      "[[2 8 1]\n",
      " [3 4 0]\n",
      " [7 5 6]]\n",
      "step number 2 at depth 2: \n",
      "[[2 8 1]\n",
      " [3 0 4]\n",
      " [7 5 6]]\n",
      "step number 3 at depth 3: \n",
      "[[2 0 1]\n",
      " [3 8 4]\n",
      " [7 5 6]]\n",
      "step number 4 at depth 4: \n",
      "[[0 2 1]\n",
      " [3 8 4]\n",
      " [7 5 6]]\n",
      "step number 5 at depth 5: \n",
      "[[3 2 1]\n",
      " [0 8 4]\n",
      " [7 5 6]]\n",
      "step number 6 at depth 6: \n",
      "[[3 2 1]\n",
      " [8 0 4]\n",
      " [7 5 6]]\n",
      "total number of nodes generated: 19\n",
      "total number of unique nodes generated: 11\n",
      "total number of nodes expanded: 6\n"
     ]
    }
   ],
   "source": [
    "problem=np.array([[2,8,1],[3,4,6],[7,5,0]])\n",
    "n=eightPuzzleNode(array=problem)\n",
    "agent=eightPuzzleAgent(heuristic='manhattan', solution=np.array([[3,2,1],[8,0,4],[7,5,6]]))\n",
    "agent.AstarSolver(n)"
   ]
  }
 ],
 "metadata": {
  "kernelspec": {
   "display_name": "Python 3",
   "language": "python",
   "name": "python3"
  },
  "language_info": {
   "codemirror_mode": {
    "name": "ipython",
    "version": 3
   },
   "file_extension": ".py",
   "mimetype": "text/x-python",
   "name": "python",
   "nbconvert_exporter": "python",
   "pygments_lexer": "ipython3",
   "version": "3.6.3"
  }
 },
 "nbformat": 4,
 "nbformat_minor": 2
}
