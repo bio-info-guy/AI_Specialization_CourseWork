{
 "cells": [
  {
   "cell_type": "markdown",
   "metadata": {
    "collapsed": true
   },
   "source": [
    "$\\newcommand{\\xv}{\\mathbf{x}}\n",
    " \\newcommand{\\wv}{\\mathbf{w}}\n",
    " \\newcommand{\\yv}{\\mathbf{y}}\n",
    " \\newcommand{\\zv}{\\mathbf{z}}\n",
    " \\newcommand{\\uv}{\\mathbf{u}}\n",
    " \\newcommand{\\vv}{\\mathbf{v}}\n",
    " \\newcommand{\\Chi}{\\mathcal{X}}\n",
    " \\newcommand{\\R}{\\rm I\\!R}\n",
    " \\newcommand{\\sign}{\\text{sign}}\n",
    " \\newcommand{\\Tm}{\\mathbf{T}}\n",
    " \\newcommand{\\Xm}{\\mathbf{X}}\n",
    " \\newcommand{\\Zm}{\\mathbf{Z}}\n",
    " \\newcommand{\\I}{\\mathbf{I}}\n",
    " \\newcommand{\\Um}{\\mathbf{U}}\n",
    " \\newcommand{\\Vm}{\\mathbf{V}} \n",
    " \\newcommand{\\muv}{\\boldsymbol\\mu}\n",
    " \\newcommand{\\Sigmav}{\\boldsymbol\\Sigma}\n",
    " \\newcommand{\\Lambdav}{\\boldsymbol\\Lambda}\n",
    "$\n",
    "\n",
    "In this note, we discuss the two subtopics of unsupervised learing, clustering and dimensionality reduction.\n",
    "\n",
    "\n",
    "# Clustering\n",
    "\n",
    "\n",
    "When there is no information available for classification target, often we still want to find different groups of data. We call these as *clusters*, and we call this approach as *clustering*. Let us talk about two clustering techniques, k-means and Gaussian mixture models. \n"
   ]
  },
  {
   "cell_type": "code",
   "execution_count": 18,
   "metadata": {
    "collapsed": true
   },
   "outputs": [],
   "source": [
    "import numpy as np\n",
    "import matplotlib.pyplot as plt\n",
    "%matplotlib inline"
   ]
  },
  {
   "cell_type": "markdown",
   "metadata": {},
   "source": [
    "## K-means\n",
    "\n",
    "First and easy clustering approach is K-means algorithm, which is non-probabilistic. \n",
    "Without knowing about actual groups, we want to find K partitions of N observations in D dimensions. \n",
    "That is, the observation data $\\Xm = {\\xv_1, \\cdots, \\xv_N}$ and $\\xv_i \\in \\R^D$.\n",
    "When we devide data into K clusters, an intuitive way is to find groups whose inter-point distances inside a cluster are smaller than the out-side-cluter-point distances.  \n",
    "\n",
    "We can formulate this by selecting a center of each cluster, named $\\muv_k$:\n",
    "\n",
    "$$\n",
    "E = \\sum_{i=1}^{N} \\sum_{k=1}^{K} \\delta_{ik} \\Vert \\xv_i - \\muv_k \\Vert^2.\n",
    "$$\n",
    "\n",
    "where $\\delta_{ik} \\in {0, 1}$ is a binary indicator variable that has 1 if $\\xv_i$ is assigned to cluster $k$, otherwise 0. \n",
    "\n",
    "Thus, our goal is finding the $\\delta_ik$ and $\\muv_k$ that minimizes the $E$. \n",
    "\n",
    "For this goal, \n",
    "\n",
    "1. we first choose an initial $\\muv_k$ randomly,\n",
    "\n",
    "2. minimize $E$ w.r.t. the $\\delta_{ik}$.\n",
    "\n",
    "3. Now, fixing the $\\delta_{ik}$, update $\\muv_k$ that minimizes $E$. \n",
    "\n",
    "4. Repeating 2 and 3, we obtain the $K$ clusters after convergence. "
   ]
  },
  {
   "cell_type": "code",
   "execution_count": 34,
   "metadata": {
    "collapsed": true
   },
   "outputs": [],
   "source": [
    "# K-means: Sketch. \n",
    "import numpy as np\n",
    "from copy import deepcopy as copy\n",
    "def kmeans(X, K=2, maxiter=100):\n",
    "    N = X.shape[0]\n",
    "    # select initial centers\n",
    "    cidx = np.random.choice(N, K, replace=False)\n",
    "    centers = X[cidx, :]\n",
    "    old_centers=copy(centers)\n",
    "    E=[]\n",
    "    # repeat until convergence or up to maxiter\n",
    "    for step in range(maxiter):\n",
    "        #### TODO: finish this for-loop for k-means!\n",
    "        # Assignment: find clusters that minimizes E with current centers\n",
    "        distance=np.sum((X - centers[:,np.newaxis,:])**2, axis=2)\n",
    "        # compute E and check convergence\n",
    "        classes=np.argmin(distance, axis=0)\n",
    "        E.append(np.sum([np.sum(X[np.where(classes == i)[0],:]) for i in np.unique(classes)]))\n",
    "        # Update: update cluster centers\n",
    "        for i in np.sort(np.unique(classes)):\n",
    "            centers[i,:]=np.mean(X[np.where(classes == i)[0],:], axis=0)\n",
    "        if E[step] <= 0.1 or np.mean((old_centers-centers)**2) < 0.01:\n",
    "            return centers, classes, E\n",
    "        old_centers=copy(centers)\n",
    "    return centers, classes, E"
   ]
  },
  {
   "cell_type": "code",
   "execution_count": null,
   "metadata": {
    "collapsed": true
   },
   "outputs": [],
   "source": []
  },
  {
   "cell_type": "code",
   "execution_count": null,
   "metadata": {
    "collapsed": true
   },
   "outputs": [],
   "source": []
  },
  {
   "cell_type": "code",
   "execution_count": null,
   "metadata": {
    "collapsed": true
   },
   "outputs": [],
   "source": []
  },
  {
   "cell_type": "code",
   "execution_count": null,
   "metadata": {
    "collapsed": true
   },
   "outputs": [],
   "source": []
  },
  {
   "cell_type": "code",
   "execution_count": null,
   "metadata": {
    "collapsed": true
   },
   "outputs": [],
   "source": []
  },
  {
   "cell_type": "code",
   "execution_count": null,
   "metadata": {
    "collapsed": true
   },
   "outputs": [],
   "source": []
  },
  {
   "cell_type": "code",
   "execution_count": null,
   "metadata": {
    "collapsed": true
   },
   "outputs": [],
   "source": []
  },
  {
   "cell_type": "markdown",
   "metadata": {},
   "source": [
    "## Hint and Sample Data Practice\n",
    "\n",
    "Here follows some hints to fill in the blanks. "
   ]
  },
  {
   "cell_type": "code",
   "execution_count": 41,
   "metadata": {
    "collapsed": true
   },
   "outputs": [],
   "source": [
    "X = np.random.rand(100,2)"
   ]
  },
  {
   "cell_type": "code",
   "execution_count": null,
   "metadata": {
    "collapsed": true
   },
   "outputs": [],
   "source": []
  },
  {
   "cell_type": "code",
   "execution_count": null,
   "metadata": {
    "collapsed": true
   },
   "outputs": [],
   "source": []
  },
  {
   "cell_type": "code",
   "execution_count": 42,
   "metadata": {},
   "outputs": [
    {
     "data": {
      "text/plain": [
       "(array([[ 0.50366943,  0.68195014],\n",
       "        [ 0.44117236,  0.2121676 ]]),\n",
       " array([0, 1, 1, 0, 1, 1, 0, 1, 0, 1, 0, 0, 0, 0, 0, 1, 0, 0, 1, 0, 1, 0, 0,\n",
       "        0, 1, 0, 0, 0, 1, 1, 1, 0, 0, 0, 0, 1, 0, 1, 0, 0, 0, 0, 0, 1, 1, 0,\n",
       "        0, 0, 0, 0, 1, 0, 1, 1, 0, 0, 0, 0, 1, 0, 0, 0, 1, 1, 0, 0, 1, 0, 1,\n",
       "        0, 0, 1, 1, 0, 1, 1, 0, 1, 1, 0, 1, 0, 0, 1, 0, 0, 1, 1, 0, 0, 1, 1,\n",
       "        0, 1, 1, 1, 1, 0, 1, 0]),\n",
       " [96.206213519674264, 96.20621351967425])"
      ]
     },
     "execution_count": 42,
     "metadata": {},
     "output_type": "execute_result"
    }
   ],
   "source": [
    "kmeans(X)"
   ]
  },
  {
   "cell_type": "code",
   "execution_count": null,
   "metadata": {
    "collapsed": true
   },
   "outputs": [],
   "source": []
  },
  {
   "cell_type": "code",
   "execution_count": null,
   "metadata": {
    "collapsed": true
   },
   "outputs": [],
   "source": []
  },
  {
   "cell_type": "code",
   "execution_count": null,
   "metadata": {
    "collapsed": true
   },
   "outputs": [],
   "source": []
  },
  {
   "cell_type": "code",
   "execution_count": 43,
   "metadata": {},
   "outputs": [
    {
     "data": {
      "text/plain": [
       "[<matplotlib.lines.Line2D at 0x11c7f7940>]"
      ]
     },
     "execution_count": 43,
     "metadata": {},
     "output_type": "execute_result"
    },
    {
     "data": {
      "image/png": "[encoded data removed]",
      "text/plain": [
       "<matplotlib.figure.Figure at 0x11c71fdd8>"
      ]
     },
     "metadata": {},
     "output_type": "display_data"
    }
   ],
   "source": [
    "mus, classes, errs = kmeans(X)\n",
    "\n",
    "plt.plot(errs)"
   ]
  },
  {
   "cell_type": "code",
   "execution_count": null,
   "metadata": {
    "collapsed": true
   },
   "outputs": [],
   "source": []
  },
  {
   "cell_type": "code",
   "execution_count": null,
   "metadata": {
    "collapsed": true
   },
   "outputs": [],
   "source": []
  },
  {
   "cell_type": "code",
   "execution_count": null,
   "metadata": {
    "collapsed": true
   },
   "outputs": [],
   "source": []
  },
  {
   "cell_type": "code",
   "execution_count": null,
   "metadata": {
    "collapsed": true
   },
   "outputs": [],
   "source": []
  },
  {
   "cell_type": "code",
   "execution_count": null,
   "metadata": {
    "collapsed": true
   },
   "outputs": [],
   "source": []
  },
  {
   "cell_type": "code",
   "execution_count": 44,
   "metadata": {},
   "outputs": [
    {
     "data": {
      "text/plain": [
       "[<matplotlib.lines.Line2D at 0x11c8a7e80>]"
      ]
     },
     "execution_count": 44,
     "metadata": {},
     "output_type": "execute_result"
    },
    {
     "data": {
      "image/png": "[encoded data removed]",
      "text/plain": [
       "<matplotlib.figure.Figure at 0x11c71f0f0>"
      ]
     },
     "metadata": {},
     "output_type": "display_data"
    }
   ],
   "source": [
    "plt.plot(X[classes==0, 0], X[classes==0, 1], 'or')\n",
    "plt.plot(X[classes==1, 0], X[classes==1, 1], 'ob')\n",
    "plt.plot(mus[:, 0], mus[:, 1], 'x')"
   ]
  },
  {
   "cell_type": "code",
   "execution_count": null,
   "metadata": {
    "collapsed": true
   },
   "outputs": [],
   "source": []
  },
  {
   "cell_type": "code",
   "execution_count": 45,
   "metadata": {},
   "outputs": [
    {
     "data": {
      "text/plain": [
       "[<matplotlib.lines.Line2D at 0x11c9e5908>]"
      ]
     },
     "execution_count": 45,
     "metadata": {},
     "output_type": "execute_result"
    },
    {
     "data": {
      "image/png": "[encoded data removed]",
      "text/plain": [
       "<matplotlib.figure.Figure at 0x11c65b7f0>"
      ]
     },
     "metadata": {},
     "output_type": "display_data"
    }
   ],
   "source": [
    "xs, ys = np.meshgrid(np.linspace(0, 1, 500), np.linspace(0, 1, 500))\n",
    "\n",
    "Xb = np.vstack((xs.flat, ys.flat)).T\n",
    "\n",
    "# find classes from the mus\n",
    "edists = np.sum((Xb - mus[:,np.newaxis,:])**2, axis=2)\n",
    "cs = np.argmin(edists, axis=0)\n",
    "\n",
    "# plot the boundary\n",
    "plt.clf()\n",
    "plt.contour(xs, ys, cs.reshape(xs.shape), cmap=plt.cm.bone)\n",
    "plt.plot(X[classes==0, 0], X[classes==0, 1], 'or')\n",
    "plt.plot(X[classes==1, 0], X[classes==1, 1], 'ob')\n",
    "plt.plot(mus[:, 0], mus[:, 1], 'x')\n"
   ]
  },
  {
   "cell_type": "code",
   "execution_count": null,
   "metadata": {
    "collapsed": true
   },
   "outputs": [],
   "source": []
  },
  {
   "cell_type": "markdown",
   "metadata": {
    "collapsed": true
   },
   "source": [
    "\n",
    "# Gaussian Mixture\n",
    "\n",
    "Previously we learned K-means clustering algorithm with linear border for each classes.  \n",
    "We observed that near the border, there are vague assignment. \n",
    "How confident are you on the assignments, especially near the border in K-means? \n",
    "\n",
    "With probabilistic model, we can softly assign clusters with a certain probability. \n",
    "For this, we can assume each cluster is Gaussian distribution:\n",
    "\n",
    "$$p(\\xv_k) \\sim N(\\xv_k \\mid \\muv_k, \\Sigmav_k).$$\n",
    "\n",
    "For the entire data $\\xv \\in \\{\\xv_1, \\cdots, \\xv_K \\}$, \n",
    "the Gaussian mixture distribution can be written as \n",
    "\n",
    "\n",
    "$$p(\\xv) = \\sum_{k=1}^K \\pi_k N(\\xv \\mid \\muv_k, \\Sigmav_k).$$\n",
    "\n",
    "\n",
    "Here, we assume the latent indicator variable $\\zv$, which satisfys $z_k \\in \\{0, 1\\}$ and $\\sum_k z_k = 1$. \n",
    "In the above Gaussian mixture model, $\\pi_k$ is called as a *mixing coefficient*, which is the marginal distribution over $\\zv$, \n",
    "\n",
    "$$\n",
    "p(z_k = 1) = \\pi_k,\n",
    "$$\n",
    "\n",
    "such that \n",
    "\n",
    "\n",
    "$$\n",
    "0 \\le \\pi_k \\le 1, \n",
    "$$\n",
    "\n",
    "and \n",
    "\n",
    "$$\n",
    "\\sum_{k=1}^{K} \\pi_k = 1.\n",
    "$$\n",
    "\n",
    "Since $\\zv$ is a indicator variable, we can write\n",
    "\n",
    "$$\n",
    "p(\\zv) = \\prod_{k=1}^K \\pi_k^{z_k}.\n",
    "$$\n",
    "\n",
    "From our first assumption of Gaussian for each class, \n",
    "\n",
    "$$\n",
    "p(\\xv_k) = p(\\xv \\mid z_k = 1) = N(\\xv \\mid \\muv_k, \\Sigmav_k).\n",
    "$$\n",
    "\n",
    "Rewriting this with a vector notation,\n",
    "\n",
    "$$\n",
    "p(\\xv \\mid \\zv) = \\prod_{k=1}^K N(\\xv \\mid \\muv_k, \\Sigmav_k)^{z_k}.\n",
    "$$\n",
    "\n",
    "Marginalizing the joint distribution $p(\\xv, \\zv)$ over $\\zv$, \n",
    "\n",
    "$$\n",
    "p(\\xv) = \\sum_{\\zv} p(\\zv) p(\\xv \\mid \\zv) = \\sum_{k=1}^K \\pi_k N(\\xv \\mid \\muv_k, \\Sigmav_k). \n",
    "$$\n",
    "\n",
    "\n",
    "Remember that in logistic regression and discriminant analysis models, we are interested in the posterior probability\n",
    "$p(T=k \\mid \\xv)$. \n",
    "Similarly, we are interested in the probability of the classification from the observation $\\xv$, thus,\n",
    "\n",
    "$$\n",
    "\\begin{align*}\n",
    "p(z_k = 1 \\mid \\xv) &= \\frac{p(\\xv \\mid z_k = 1) p(z_k= 1)}{p(\\xv)} \\\\\n",
    " \\\\\n",
    "                    &= \\frac{ \\pi_kN(\\xv \\mid \\muv_k, \\Sigmav_k)}{\\sum_{l=1}^K \\pi_l N(\\xv \\mid \\muv_l, \\Sigmav_l)}.\n",
    "\\end{align*}\n",
    "$$\n",
    "\n",
    "For concise notation, let us define $\\kappa(z_k) \\equiv p(z_k = 1 \\mid \\xv)$. \n",
    "\n",
    "\n",
    "## Likelihood\n",
    "\n",
    "Now, consider the batch data input $\\Xm$ with $N$ data samples and $D$ dimensional input for each. \n",
    "Here, the latent variables are now in matrix $\\Zm$ for $N$ samples and $K$ classes. \n",
    "\n",
    "From the marginal distribution and the assumption of i.i.d, we can write the likelihood function:\n",
    "\n",
    "$$\n",
    "\\begin{align*}\n",
    "p(\\Xm \\mid \\pi, \\muv, \\Sigmav) &= \\prod_{n=1}^N p(\\xv_n, \\zv_n) \\\\\n",
    "                               &= \\prod_{n=1}^N p(\\xv_n \\mid \\zv_n) p(\\zv_n) \\\\\n",
    "                               &= \\prod_{n=1}^N \\prod_{k=1}^{K} \\Big[ \\pi_k N(\\xv_n \\mid \\muv_k, \\Sigmav_k)\\Big]^{z_k} .\n",
    "\\end{align*}\n",
    "$$\n",
    "\n",
    "Applying the logarihtm, the log-likelihood is \n",
    "\n",
    "$$\n",
    "LL = \\ln p(\\Xm \\mid \\pi, \\muv, \\Sigmav) = \\sum_{n=1}^N \\ln \\Big[ \\sum_{k=1}^K\\pi_k N(\\xv_n \\mid \\muv_k, \\Sigmav_k)  \\Big]. \n",
    "$$\n",
    "\n",
    "\n",
    "## The parameters: $\\muv, \\Sigma, \\pi$\n",
    "\n",
    "Now, let us find the maximum of the log-likelihood w.r.t $\\muv_k$, $\\Sigmav_k$, and $\\pi_k$. \n",
    "Before this, let's review the derivation of multivariate Gaussian distribution.\n",
    "\n",
    "### Derivation of Gaussian\n",
    "\n",
    "#### - w.r.t. $\\muv$,\n",
    "$$\n",
    "\\begin{align*}\n",
    "\\frac{d}{d\\muv} N(\\xv; \\muv, \\Sigmav) &= \\frac{d}{d\\muv} \\Bigg[  \\frac{1}{ (2\\pi)^{\\frac{d}{2}} \\vert \\Sigmav \\vert^{\\frac{1}{2}}} e^{ - \\frac{1}{2} (\\xv - \\muv)^\\top \\Sigmav^{-1} (\\xv - \\muv) } \\Bigg] \\\\\n",
    "\\\\\n",
    "  &= \\Bigg[  \\frac{1}{ (2\\pi)^{\\frac{d}{2}} \\vert \\Sigmav \\vert^{\\frac{1}{2}}} e^{ - \\frac{1}{2} (\\xv - \\muv)^\\top \\Sigmav^{-1} (\\xv - \\muv) } \\Bigg] \\frac{d}{d\\muv}\\Bigg( - \\frac{1}{2} (\\xv - \\muv)^\\top \\Sigmav^{-1} (\\xv - \\muv) \\Bigg) \\\\\n",
    "  \\\\\n",
    "  &= \\Bigg[  \\frac{1}{ (2\\pi)^{\\frac{d}{2}} \\vert \\Sigmav \\vert^{\\frac{1}{2}}} e^{ - \\frac{1}{2} (\\xv - \\muv)^\\top \\Sigmav^{-1} (\\xv - \\muv) } \\Bigg] \\frac{d}{d\\muv}\\Bigg( - \\frac{1}{2} [ \\xv^\\top \\Sigmav^{-1} \\xv - 2 \\muv^\\top \\Sigmav^{-1} \\xv + \\muv^\\top \\Sigmav^{-1} \\muv ] \\Bigg) \\\\\n",
    "  \\\\\n",
    "  &= \\Bigg[  \\frac{1}{ (2\\pi)^{\\frac{d}{2}} \\vert \\Sigmav \\vert^{\\frac{1}{2}}} e^{ - \\frac{1}{2} (\\xv - \\muv)^\\top \\Sigmav^{-1} (\\xv - \\muv) } \\Bigg] \\Bigg( \\Sigmav^{-1} \\xv - \\Sigmav^{-1} \\muv \\Bigg) \\\\\n",
    "  \\\\\n",
    "  &= N(\\xv; \\muv, \\Sigmav) \\Sigmav^{-1} (\\xv - \\muv) \n",
    "\\end{align*}\n",
    "$$\n",
    "\n",
    "#### -  w.r.t. $\\Sigmav$, \n",
    "$$\n",
    "\\begin{align*}\n",
    "\\frac{d}{d\\Sigmav} N(\\xv; \\muv, \\Sigmav) &= \\frac{d}{d\\Sigmav} \\Bigg[  (2\\pi)^{-\\frac{d}{2}} \\vert \\Sigmav \\vert^{-\\frac{1}{2}} e^{ - \\frac{1}{2} (\\xv - \\muv)^\\top \\Sigmav^{-1} (\\xv - \\muv) } \\Bigg] \\\\\n",
    "\\\\\n",
    "&= (2\\pi)^{-\\frac{d}{2}} \\frac{d}{d\\Sigmav} \\Bigg[  \\vert \\Sigmav \\vert^{-\\frac{1}{2}} e^{ - \\frac{1}{2} (\\xv - \\muv)^\\top \\Sigmav^{-1} (\\xv - \\muv) } \\Bigg] \\\\\n",
    "\\\\\n",
    "&= (2\\pi)^{-\\frac{d}{2}} \\Bigg[  \\frac{d \\vert \\Sigmav \\vert^{-\\frac{1}{2}}}{d\\Sigmav} e^{ - \\frac{1}{2} (\\xv - \\muv)^\\top \\Sigmav^{-1} (\\xv - \\muv) } + \\vert \\Sigmav \\vert^{-\\frac{1}{2}} \\frac{d  e^{ - \\frac{1}{2} (\\xv - \\muv)^\\top \\Sigmav^{-1} (\\xv - \\muv) } }{d\\Sigmav}\\Bigg] \\\\\n",
    "\\\\\n",
    "&= (2\\pi)^{-\\frac{d}{2}} \\Bigg[ -\\frac{1}{2} \\vert \\Sigmav \\vert^{-\\frac{3}{2}} \\frac{d \\vert \\Sigmav \\vert }{d\\Sigmav} e^{ - \\frac{1}{2} (\\xv - \\muv)^\\top \\Sigmav^{-1} (\\xv - \\muv) } + \\vert \\Sigmav \\vert^{-\\frac{1}{2}} e^{ - \\frac{1}{2} (\\xv - \\muv)^\\top \\Sigmav^{-1} (\\xv - \\muv) } \\frac{d \\big( - \\frac{1}{2} (\\xv - \\muv)^\\top \\Sigmav^{-1} (\\xv - \\muv) \\big)}{d\\Sigmav} \\Bigg] \\\\\n",
    "\\\\\n",
    "&= (2\\pi)^{-\\frac{d}{2}} \\Bigg[  -\\frac{1}{2} \\vert \\Sigmav \\vert^{-\\frac{3}{2}} \\vert \\Sigmav \\vert \\Sigmav^{-1} e^{ - \\frac{1}{2} (\\xv - \\muv)^\\top \\Sigmav^{-1} (\\xv - \\muv) } -\\frac{1}{2} \n",
    "\\vert \\Sigmav \\vert^{-\\frac{1}{2}} e^{ - \\frac{1}{2} (\\xv - \\muv)^\\top \\Sigmav^{-1} (\\xv - \\muv) } (- \\Sigmav^{-1} (\\xv - \\muv) (\\xv - \\muv)^\\top  \\Sigmav^{-1} ) \\Bigg] \\\\\n",
    "\\\\\n",
    "&= -\\frac{1}{2} (2\\pi)^{-\\frac{d}{2}} \\Bigg[ \\vert \\Sigmav \\vert^{-\\frac{1}{2}} \\Sigmav^{-1} e^{ - \\frac{1}{2} (\\xv - \\muv)^\\top \\Sigmav^{-1} (\\xv - \\muv) } + \\vert \\Sigmav \\vert^{\\frac{1}{2}} e^{ - \\frac{1}{2} (\\xv - \\muv)^\\top \\Sigmav^{-1} (\\xv - \\muv) } \\Sigmav^{-1} (\\xv - \\muv) (\\xv - \\muv)^\\top  \\Sigmav^{-1} \\Bigg] \\\\\n",
    "\\\\\n",
    "&= -\\frac{1}{2} (2\\pi)^{-\\frac{d}{2}} \\vert \\Sigmav \\vert^{-\\frac{1}{2}}  e^{ - \\frac{1}{2} (\\xv - \\muv)^\\top \\Sigmav^{-1} (\\xv - \\muv) } \\Sigmav^{-1} \\Bigg[ \\I - (\\xv - \\muv) (\\xv - \\muv)^\\top  \\Sigmav^{-1} \\Bigg] \\\\\n",
    "\\\\\n",
    "&= -\\frac{1}{2} N(\\xv; \\muv, \\Sigmav) \\Sigmav^{-1} \\Bigg[ \\I - (\\xv - \\muv) (\\xv - \\muv)^\\top  \\Sigmav^{-1} \\Bigg]\n",
    "\\end{align*}\n",
    "$$\n",
    "\n",
    "<hr/>\n",
    "\n",
    "Now, back to the derivation of the log-likelihood: \n",
    "\n",
    "$$\n",
    "\\begin{align*}\n",
    "\\frac{\\partial LL}{\\partial \\muv_k} &= \\sum_{n=1}^N \\frac{1}{\\sum_{l=1}^K\\pi_l N(\\xv_n \\mid \\muv_l, \\Sigmav_l)}  \\nabla_{\\muv_k}  \\Big[ \\sum_{k=1}^K\\pi_k N(\\xv_n \\mid \\muv_k, \\Sigmav_k)  \\Big] \\\\\n",
    "\\\\\n",
    "                    &=  \\sum_{n=1}^N \\frac{1}{\\sum_{l=1}^K\\pi_l N(\\xv_n \\mid \\muv_l, \\Sigmav_l)} \\nabla_{\\muv_k}  \\pi_k N(\\xv_n \\mid \\muv_k, \\Sigmav_k) \\\\\n",
    "                    \\\\\n",
    "                     &=  \\sum_{n=1}^N \\frac{1}{\\sum_{l=1}^K\\pi_l N(\\xv_n \\mid \\muv_l, \\Sigmav_l)} \\pi_kN(\\xv_n; \\muv_k, \\Sigmav_k) \\Sigmav_k^{-1} (\\xv_n - \\muv_k)\n",
    "                     \\\\\n",
    "                     &=  \\sum_{n=1}^N \\frac{\\pi_k N(\\xv_n; \\muv_k, \\Sigmav_k)}{\\sum_{l=1}^K\\pi_l N(\\xv_n \\mid \\muv_l, \\Sigmav_l)}  \\Sigmav_k^{-1} (\\xv_n - \\muv_k) \\\\\n",
    "                     \\\\\n",
    "                     &= \\sum_{n=1}^N \\kappa(z_k) \\Sigmav_k^{-1} (\\xv_n - \\muv_k)\n",
    "\\end{align*}                 \n",
    "$$\n",
    "\n",
    "Setting this to zero, \n",
    "\n",
    "$$\n",
    "\\sum_{n=1}^N \\kappa(z_k) \\Sigmav_k^{-1} (\\xv_n - \\muv_k) = 0 \\\\ \n",
    "\\sum_{n=1}^N \\kappa(z_k) (\\xv_n - \\muv_k) = 0 \\\\\n",
    "\\sum_{n=1}^N \\kappa(z_k) \\xv_n =  \\sum_{n=1}^N \\kappa(z_k) \\muv_k \\\\\n",
    "\\sum_{n=1}^N \\kappa(z_k) \\xv_n =  N_k \\muv_k \\\\\n",
    "\\\\\n",
    "\\muv_k = \\frac{1}{N_k} \\sum_{n=1}^N \\kappa(z_k) \\xv_n,\n",
    "$$\n",
    "\n",
    "where the number of samples for class $k$, $N_k = \\sum_{n=1}^{N} \\kappa(z_k)$.\n",
    "\n",
    "Now, w.r.t $\\Sigmav_k$, \n",
    "\n",
    "$$\n",
    "\\begin{align*}\n",
    "\\frac{\\partial LL}{\\partial \\Sigmav_k} &= \\sum_{n=1}^N \\frac{1}{\\sum_{l=1}^K\\pi_l N(\\xv_n \\mid \\muv_l, \\Sigmav_l)}  \\nabla_{\\Sigmav_k}  \\Big[ \\sum_{k=1}^K\\pi_k N(\\xv_n \\mid \\muv_k, \\Sigmav_k)  \\Big] \\\\\n",
    "\\\\\n",
    "                    &=  \\sum_{n=1}^N \\frac{1}{\\sum_{l=1}^K\\pi_l N(\\xv_n \\mid \\muv_l, \\Sigmav_l)} \\nabla_{\\Sigmav_k}  \\pi_k N(\\xv_n \\mid \\muv_k, \\Sigmav_k) \\\\\n",
    "                    \\\\\n",
    "                     &=  \\sum_{n=1}^N \\frac{1}{\\sum_{l=1}^K\\pi_l N(\\xv_n \\mid \\muv_l, \\Sigmav_l)} \\pi_kN(\\xv_n; \\muv_k, \\Sigmav_k) \\Sigmav_k^{-1} (\\I - (\\xv_n - \\muv_k)(\\xv_n - \\muv_k)^\\top \\Sigmav_k^{-1} ) \\\\\n",
    "                     \\\\\n",
    "                     &=  \\sum_{n=1}^N \\frac{\\pi_k N(\\xv_n; \\muv_k, \\Sigmav_k)}{\\sum_{l=1}^K\\pi_l N(\\xv_n \\mid \\muv_l, \\Sigmav_l)}  \\Sigmav_k^{-1}  (\\I - (\\xv_n - \\muv_k)(\\xv_n - \\muv_k)^\\top \\Sigmav_k^{-1} ) \\\\\n",
    "                     \\\\\n",
    "                     &= \\sum_{n=1}^N \\kappa(z_k) \\Sigmav_k^{-1}  (\\I - (\\xv_n - \\muv_k)(\\xv_n - \\muv_k)^\\top \\Sigmav_k^{-1} )\n",
    "\\end{align*}                 \n",
    "$$\n",
    "\n",
    "Setting the last one to zero, and multiplying $\\Sigma$ on both side of equal, \n",
    "\n",
    "$$\n",
    "\\sum_{n=1}^N \\kappa(z_k) (\\I - (\\xv_n - \\muv_k)(\\xv_n - \\muv_k)^\\top \\Sigmav_k^{-1} ) = 0 \\\\\n",
    "\\sum_{n=1}^N \\kappa(z_k) \\I  = \\sum_{n=1}^N \\kappa(z_k) (\\xv_n - \\muv_k)(\\xv_n - \\muv_k)^\\top \\Sigmav_k^{-1} \\\\\n",
    "N_k \\Sigmav_k = \\sum_{n=1}^N \\kappa(z_k) (\\xv_n - \\muv_k)(\\xv_n - \\muv_k)^\\top \\\\\n",
    "\\Sigmav_k = \\frac{1}{N_k} \\sum_{n=1}^N \\kappa(z_k) (\\xv_n - \\muv_k)(\\xv_n - \\muv_k)^\\top\n",
    "$$\n",
    "\n",
    "\n",
    "w.r.t $\\pi_k$, \n",
    "$$\n",
    "\\begin{align*}\n",
    "\\frac{\\partial LL}{\\partial \\pi_k} &= \\sum_{n=1}^N \\frac{1}{\\sum_{l=1}^K\\pi_l N(\\xv_n \\mid \\muv_l, \\Sigmav_l)}  \\nabla_{\\pi_k}  \\Big[ \\sum_{k=1}^K\\pi_k N(\\xv_n \\mid \\muv_k, \\Sigmav_k)  \\Big] \\\\\n",
    "\\\\\n",
    "                    &=  \\sum_{n=1}^N \\frac{1}{\\sum_{l=1}^K\\pi_l N(\\xv_n \\mid \\muv_l, \\Sigmav_l)} \\nabla_{\\pi_k}  \\pi_k N(\\xv_n \\mid \\muv_k, \\Sigmav_k) \\\\\n",
    "                    \\\\\n",
    "                     &= \\frac{1}{\\pi_k} \\sum_{n=1}^N \\frac{\\pi_k N(\\xv_n; \\muv_k, \\Sigmav_k) }{\\sum_{l=1}^K\\pi_l N(\\xv_n \\mid \\muv_l, \\Sigmav_l)} \\\\\n",
    "                     \\\\\n",
    "                     &= \\frac{1}{\\pi_k} \\sum_{n=1}^N \\kappa(z_k) \n",
    "\\end{align*}                 \n",
    "$$\n",
    "\n",
    "Setting this to zero does not give any info but zero. What did we do wrong? \n",
    "\n",
    "Here, let us consider the constraint $\\sum_k \\pi_k = 1$. \n",
    "Adding this constraint with a Lagrange multiplier, \n",
    "\n",
    "$$\n",
    "LL + \\lambda (\\sum_k \\pi_k - 1) = \\sum_{n=1}^N \\ln \\Big[ \\sum_{k=1}^K\\pi_k N(\\xv_n \\mid \\muv_k, \\Sigmav_k)  \\Big] + \\lambda (\\sum_k \\pi_k - 1)\n",
    "$$\n",
    "\n",
    "Computing the derivative and setting it to zero, \n",
    "\n",
    "$$\n",
    "\\frac{1}{\\pi_k} \\sum_{n=1}^N \\kappa(z_k) + \\lambda = 0 \\\\\n",
    "\\pi_k = -\\frac{N_k}{\\lambda} \n",
    "$$\n",
    "\n",
    "From the constraint, $\\sum_k \\pi_k = 1$, we can see that \n",
    "\n",
    "$$\n",
    "\\sum_k \\pi_k = - \\sum_k \\frac{N_k}{\\lambda} = -\\frac{1}{\\lambda} \\sum_k \\frac{N_k} = -\\frac{N}{\\lambda} = 1 \\\\\n",
    "\\\\\n",
    "\\Rightarrow \\lambda = -N\n",
    "$$\n",
    "\n",
    "Thus, \n",
    "\n",
    "$$\n",
    "\\pi_k = \\frac{N_k}{N} \n",
    "$$\n",
    "\n",
    "Collecting all the updates, \n",
    "\n",
    "- $\\muv_k = \\frac{1}{N_k} \\sum_{n=1}^N \\kappa(z_k) \\xv_n$\n",
    "<br/><br/>\n",
    "- $\\Sigmav_k = \\frac{1}{N_k} \\sum_{n=1}^N \\kappa(z_k) (\\xv_n - \\muv_k)(\\xv_n - \\muv_k)^\\top$\n",
    "<br/><br/>\n",
    "- $\\pi_k = \\frac{N_k}{N} $"
   ]
  },
  {
   "cell_type": "markdown",
   "metadata": {},
   "source": [
    "## Algorithm\n",
    "\n",
    "- Initialize $\\muv_k$, $\\Sigmav_k$, and $\\pi_k$. \n",
    "\n",
    "- **Expection Step**: evaluate the responsibilities $\\kappa(z_{nk})$, \n",
    "\n",
    "$$\n",
    "\\kappa(z_{nk}) = \\frac{ \\pi_kN(\\xv \\mid \\muv_k, \\Sigmav_k)}{\\sum_{l=1}^K \\pi_l N(\\xv \\mid \\muv_l, \\Sigmav_l)}. \n",
    "$$\n",
    "\n",
    "- **Maximization Step**: re-estimate $\\muv_k$, $\\Sigmav_k$, and $\\pi_k$,\n",
    "\n",
    "  - $\\muv_k = \\frac{1}{N_k} \\sum_{n=1}^N \\kappa(z_k) \\xv_n$,\n",
    "<br/><br/>\n",
    "  - $\\Sigmav_k = \\frac{1}{N_k} \\sum_{n=1}^N \\kappa(z_k) (\\xv_n - \\muv_k)(\\xv_n - \\muv_k)^\\top$,\n",
    "<br/><br/>\n",
    "  - $\\pi_k = \\frac{N_k}{N} $,\n",
    "  \n",
    "  with \n",
    "  \n",
    "  - $N_k = \\sum_{n=1}^{N} \\kappa(z_k)$. \n",
    "  \n",
    "- Compute the log-likelihood and check convergence: \n",
    "\n",
    "  $$\n",
    "LL = \\ln p(\\Xm \\mid \\pi, \\muv, \\Sigmav) = \\sum_{n=1}^N \\ln \\Big[ \\sum_{k=1}^K\\pi_k N(\\xv_n \\mid \\muv_k, \\Sigmav_k)  \\Big]. \n",
    "$$\n",
    "\n",
    "- If not converged, repeat EM steps. "
   ]
  },
  {
   "cell_type": "markdown",
   "metadata": {},
   "source": [
    "<hr/>\n",
    "\n",
    "## Normal PDF\n",
    "\n",
    "Before starting to write the EM algorithm for GMM, let us review our multivariate normal pdf!"
   ]
  },
  {
   "cell_type": "code",
   "execution_count": 4,
   "metadata": {
    "collapsed": true
   },
   "outputs": [],
   "source": [
    "import numpy as np \n",
    "import matplotlib.pyplot as plt\n",
    "%matplotlib inline"
   ]
  },
  {
   "cell_type": "code",
   "execution_count": 5,
   "metadata": {
    "collapsed": true
   },
   "outputs": [],
   "source": [
    "# multinomial pdf\n",
    "def normal_dist(X, mu, Sigma):\n",
    "    \"\"\" multinomial distribution probability density function\n",
    "    \n",
    "        parameters\n",
    "        -----------\n",
    "        X        ndarray (N x D)\n",
    "                 input data\n",
    "        mu       ndarray (D x 1)\n",
    "                 mean vector\n",
    "        Sigma    ndarray (D x D)\n",
    "                 covariance matrix\n",
    "        \n",
    "        return\n",
    "        ------\n",
    "        @pdf_evals  ndarray (N x 1)\n",
    "    \"\"\"\n",
    "    N, D = X.shape\n",
    "    SigmaDet = Sigma if D == 1 else np.linalg.det(Sigma)\n",
    "    try:\n",
    "        SigmaInv = 1. / Sigma if D == 1 else np.linalg.inv(Sigma)\n",
    "    except LinAlgError:\n",
    "        raise np.linalg.LinAlgError('normalD: failed to compute inverse of Sigma')\n",
    "    \n",
    "    scale = 1. / np.sqrt((2 * np.pi)**D * SigmaDet)\n",
    "    shiftedX = X - mu\n",
    "    return scale * np.exp(-0.5 * np.sum(shiftedX @ SigmaInv * shiftedX, axis=1, keepdims=True))"
   ]
  },
  {
   "cell_type": "code",
   "execution_count": 6,
   "metadata": {},
   "outputs": [
    {
     "data": {
      "text/plain": [
       "array([[ 0.1184912 ],\n",
       "       [ 0.02101134],\n",
       "       [ 0.04560888],\n",
       "       [ 0.08455806],\n",
       "       [ 0.08909014],\n",
       "       [ 0.05536202],\n",
       "       [ 0.07872801],\n",
       "       [ 0.12197247],\n",
       "       [ 0.00593856],\n",
       "       [ 0.074292  ]])"
      ]
     },
     "execution_count": 6,
     "metadata": {},
     "output_type": "execute_result"
    }
   ],
   "source": [
    "mu = np.array([1, 1])\n",
    "cov = np.eye(2)\n",
    "\n",
    "X = np.random.multivariate_normal(mu, cov, 10)\n",
    "\n",
    "normal_dist(X, mu, cov)"
   ]
  },
  {
   "cell_type": "markdown",
   "metadata": {},
   "source": [
    "### PDF for Mixture Model\n",
    "\n",
    "Now, let's consider multiple means for mixture model. \n",
    "\n",
    "For this, we review the Python *map* function."
   ]
  },
  {
   "cell_type": "code",
   "execution_count": 7,
   "metadata": {},
   "outputs": [
    {
     "data": {
      "text/plain": [
       "[[0, 10], [1, 11], [2, 12], [3, 13], [4, 14]]"
      ]
     },
     "execution_count": 7,
     "metadata": {},
     "output_type": "execute_result"
    }
   ],
   "source": [
    "\n",
    "a = np.arange(5)\n",
    "b = np.arange(5) + 10\n",
    "\n",
    "list(map(list, zip(a,b)))"
   ]
  },
  {
   "cell_type": "code",
   "execution_count": 8,
   "metadata": {
    "scrolled": true
   },
   "outputs": [
    {
     "name": "stdout",
     "output_type": "stream",
     "text": [
      "0 10\n",
      "1 11\n",
      "2 12\n",
      "3 13\n",
      "4 14\n"
     ]
    }
   ],
   "source": [
    "#list(map(lambda a,b: a+b, zip(a,b)))\n",
    "\n",
    "for i,j in zip(a,b):\n",
    "    print(i, j)"
   ]
  },
  {
   "cell_type": "code",
   "execution_count": 9,
   "metadata": {},
   "outputs": [
    {
     "data": {
      "text/plain": [
       "[10, 12, 14, 16, 18]"
      ]
     },
     "execution_count": 9,
     "metadata": {},
     "output_type": "execute_result"
    }
   ],
   "source": [
    "list(map(lambda t: t[0]+t[1], zip(a,b)))"
   ]
  },
  {
   "cell_type": "code",
   "execution_count": 74,
   "metadata": {
    "collapsed": true
   },
   "outputs": [],
   "source": [
    "\"\"\" Revised multinomial PDF function for mixture models\n",
    "\"\"\"\n",
    "\n",
    "from numpy.linalg import LinAlgError\n",
    "\n",
    "# multinomial pdf\n",
    "def mixnorm_dist(X, mus, Sigmas):\n",
    "    \"\"\" multinomial distribution probability density function\n",
    "    \n",
    "        parameters\n",
    "        -----------\n",
    "        X        ndarray (N x D)\n",
    "                 input data\n",
    "        mu       list of ndarray (D x 1)\n",
    "                 mean vectors\n",
    "        Sigma    list of ndarray (D x D)\n",
    "                 covariance matrices\n",
    "        \n",
    "        return\n",
    "        ------\n",
    "        @pdf_evals  ndarray (N x K)  for K = len(mus)\n",
    "    \"\"\"\n",
    "    N, D = X.shape\n",
    "    \n",
    "    SigmaDets = np.fromiter(map(lambda S: S if D == 1 else np.linalg.det(S), Sigmas), dtype=np.float)\n",
    "    try:\n",
    "        SigmaInvs = np.array(list(map(lambda S: 1. / S if D == 1 else np.linalg.inv(S), Sigmas)))\n",
    "    except LinAlgError:\n",
    "        raise LinAlgError('normalD: failed to compute inverse of Sigma')\n",
    "    \n",
    "    scale = 1. / np.sqrt((2 * np.pi)**D * SigmaDets)\n",
    "    shiftedX = X - np.asarray(mus)[:, np.newaxis, :]\n",
    "    \n",
    "    #quad = np.array(list(map(lambda V: np.sum(V[0] @ V[1] * V[1], axis=1, keepdims=True), zip(shiftedX, SigmaInvs))))\n",
    "    quad = np.array(list(map(lambda V: np.sum(V[0] @ V[1] * V[0], axis=1, keepdims=True), zip(shiftedX, SigmaInvs))))\n",
    "    quad = np.hstack(quad)\n",
    "    return scale * np.exp(-0.5 * quad)\n"
   ]
  },
  {
   "cell_type": "code",
   "execution_count": null,
   "metadata": {
    "collapsed": true
   },
   "outputs": [],
   "source": []
  },
  {
   "cell_type": "code",
   "execution_count": 11,
   "metadata": {},
   "outputs": [
    {
     "data": {
      "text/plain": [
       "array([[  1.31440503e-01,   3.65546490e-03],\n",
       "       [  6.00355517e-02,   1.01762908e-01],\n",
       "       [  1.04553563e-01,   1.11781030e-02],\n",
       "       [  8.75524715e-03,   3.54977154e-06],\n",
       "       [  1.06327912e-01,   5.04742406e-03],\n",
       "       [  3.21729729e-02,   1.33887836e-01],\n",
       "       [  4.54825316e-02,   1.05126367e-01],\n",
       "       [  1.34522686e-01,   6.22312083e-03],\n",
       "       [  3.04616488e-02,   1.03541398e-01],\n",
       "       [  1.34677009e-01,   2.57572964e-02],\n",
       "       [  6.54712490e-02,   9.49929211e-02],\n",
       "       [  3.26424173e-03,   1.23796459e-01],\n",
       "       [  3.15362307e-03,   1.13009861e-01],\n",
       "       [  1.75922942e-02,   1.52211356e-01],\n",
       "       [  3.62832301e-02,   1.29055877e-01],\n",
       "       [  2.74623244e-03,   8.98110677e-02],\n",
       "       [  1.73659165e-03,   3.94919100e-02],\n",
       "       [  1.30485949e-01,   1.86396951e-02],\n",
       "       [  7.08511553e-02,   8.54517118e-02],\n",
       "       [  1.30960813e-02,   1.21938688e-01]])"
      ]
     },
     "execution_count": 11,
     "metadata": {},
     "output_type": "execute_result"
    }
   ],
   "source": [
    "mu1 = np.array([1, 1])\n",
    "mu2 = np.array([3, 2])\n",
    "cov = np.eye(2)\n",
    "\n",
    "X = np.vstack((np.random.multivariate_normal(mu1, cov, 10),\n",
    "               np.random.multivariate_normal(mu2, cov, 10)))\n",
    "\n",
    "mixnorm_dist(X, [mu1, mu2], [cov, cov])\n",
    "#X[:, :] - np.asarray([mu1, mu2])[:, np.newaxis, :]\n"
   ]
  },
  {
   "cell_type": "code",
   "execution_count": 12,
   "metadata": {},
   "outputs": [
    {
     "name": "stdout",
     "output_type": "stream",
     "text": [
      "[[ 0.1314405 ]\n",
      " [ 0.06003555]\n",
      " [ 0.10455356]\n",
      " [ 0.00875525]\n",
      " [ 0.10632791]\n",
      " [ 0.03217297]\n",
      " [ 0.04548253]\n",
      " [ 0.13452269]\n",
      " [ 0.03046165]\n",
      " [ 0.13467701]\n",
      " [ 0.06547125]\n",
      " [ 0.00326424]\n",
      " [ 0.00315362]\n",
      " [ 0.01759229]\n",
      " [ 0.03628323]\n",
      " [ 0.00274623]\n",
      " [ 0.00173659]\n",
      " [ 0.13048595]\n",
      " [ 0.07085116]\n",
      " [ 0.01309608]]\n",
      "[[  3.65546490e-03]\n",
      " [  1.01762908e-01]\n",
      " [  1.11781030e-02]\n",
      " [  3.54977154e-06]\n",
      " [  5.04742406e-03]\n",
      " [  1.33887836e-01]\n",
      " [  1.05126367e-01]\n",
      " [  6.22312083e-03]\n",
      " [  1.03541398e-01]\n",
      " [  2.57572964e-02]\n",
      " [  9.49929211e-02]\n",
      " [  1.23796459e-01]\n",
      " [  1.13009861e-01]\n",
      " [  1.52211356e-01]\n",
      " [  1.29055877e-01]\n",
      " [  8.98110677e-02]\n",
      " [  3.94919100e-02]\n",
      " [  1.86396951e-02]\n",
      " [  8.54517118e-02]\n",
      " [  1.21938688e-01]]\n"
     ]
    }
   ],
   "source": [
    "# compare with the normalD\n",
    "print(normal_dist(X, mu1, cov))\n",
    "print(normal_dist(X, mu2, cov))"
   ]
  },
  {
   "cell_type": "code",
   "execution_count": 13,
   "metadata": {},
   "outputs": [
    {
     "data": {
      "text/plain": [
       "array([[  9.72941717e-01,   2.70582828e-02],\n",
       "       [  3.71051441e-01,   6.28948559e-01],\n",
       "       [  9.03413617e-01,   9.65863829e-02],\n",
       "       [  9.99594719e-01,   4.05280722e-04],\n",
       "       [  9.54680953e-01,   4.53190468e-02],\n",
       "       [  1.93742118e-01,   8.06257882e-01],\n",
       "       [  3.01990997e-01,   6.98009003e-01],\n",
       "       [  9.55784680e-01,   4.42153197e-02],\n",
       "       [  2.27320569e-01,   7.72679431e-01],\n",
       "       [  8.39452689e-01,   1.60547311e-01],\n",
       "       [  4.08011639e-01,   5.91988361e-01],\n",
       "       [  2.56904118e-02,   9.74309588e-01],\n",
       "       [  2.71481448e-02,   9.72851855e-01],\n",
       "       [  1.03603746e-01,   8.96396254e-01],\n",
       "       [  2.19447358e-01,   7.80552642e-01],\n",
       "       [  2.96706196e-02,   9.70329380e-01],\n",
       "       [  4.21211439e-02,   9.57878856e-01],\n",
       "       [  8.75006775e-01,   1.24993225e-01],\n",
       "       [  4.53294022e-01,   5.46705978e-01],\n",
       "       [  9.69830315e-02,   9.03016969e-01]])"
      ]
     },
     "execution_count": 13,
     "metadata": {},
     "output_type": "execute_result"
    }
   ],
   "source": [
    "probs = mixnorm_dist(X, [mu1, mu2], [cov, cov])\n",
    "kappa = probs / np.sum(probs, axis=1, keepdims=True)\n",
    "kappa"
   ]
  },
  {
   "cell_type": "code",
   "execution_count": 14,
   "metadata": {},
   "outputs": [
    {
     "data": {
      "text/plain": [
       "array([0, 1, 0, 0, 0, 1, 1, 0, 1, 0, 1, 1, 1, 1, 1, 1, 1, 0, 1, 1])"
      ]
     },
     "execution_count": 14,
     "metadata": {},
     "output_type": "execute_result"
    }
   ],
   "source": [
    "classes = np.argmax(kappa, axis=1)\n",
    "classes"
   ]
  },
  {
   "cell_type": "code",
   "execution_count": 15,
   "metadata": {},
   "outputs": [
    {
     "data": {
      "text/plain": [
       "array([ 0.81167372,  0.54096061])"
      ]
     },
     "execution_count": 15,
     "metadata": {},
     "output_type": "execute_result"
    }
   ],
   "source": [
    "mean1 = X[classes==0].mean(axis=0)\n",
    "mean1"
   ]
  },
  {
   "cell_type": "code",
   "execution_count": 16,
   "metadata": {},
   "outputs": [
    {
     "data": {
      "text/plain": [
       "array([[ 0.82031578,  0.17772438],\n",
       "       [ 0.17772438,  0.37541457]])"
      ]
     },
     "execution_count": 16,
     "metadata": {},
     "output_type": "execute_result"
    }
   ],
   "source": [
    "cov1 = np.cov(X[classes==0].T)\n",
    "cov1"
   ]
  },
  {
   "cell_type": "code",
   "execution_count": 17,
   "metadata": {},
   "outputs": [
    {
     "data": {
      "text/plain": [
       "array([ 7, 13])"
      ]
     },
     "execution_count": 17,
     "metadata": {},
     "output_type": "execute_result"
    }
   ],
   "source": [
    "np.bincount(classes)"
   ]
  },
  {
   "cell_type": "code",
   "execution_count": 38,
   "metadata": {},
   "outputs": [
    {
     "data": {
      "text/plain": [
       "array([1, 2, 1, 0, 3])"
      ]
     },
     "execution_count": 38,
     "metadata": {},
     "output_type": "execute_result"
    }
   ],
   "source": [
    "np.bincount([0,1,1,2,4,4,4])"
   ]
  },
  {
   "cell_type": "code",
   "execution_count": 90,
   "metadata": {
    "collapsed": true
   },
   "outputs": [],
   "source": [
    "def GMM(X, K=2, maxiter=100):\n",
    "    N, D = X.shape\n",
    "    \n",
    "    # select initial centers - randomly for now, but YOU CAN USE K-MEANS for initial assignment\n",
    "    cidx = np.random.choice(N, K, replace=False)\n",
    "    mus = X[cidx, :]\n",
    "    Sigmas = [np.eye(D) for k in range(K)]  # uni-variance\n",
    "    pi = np.array([1/K] * K)\n",
    "    \n",
    "    LL = []  # LogLikelihood log - expected to monotonically increasing\n",
    "    \n",
    "    # repeat until convergence or up to maxiter\n",
    "    for step in range(maxiter):\n",
    "        \n",
    "        # Expectation\n",
    "        probs = mixnorm_dist(X, mus, Sigmas) \n",
    "        kappa = probs / np.sum(probs, axis=1, keepdims=True)\n",
    "        classes = np.argmax(kappa, axis=1)\n",
    "        \n",
    "        # Maximization\n",
    "        Nk = np.bincount(classes)\n",
    "        for i in range(K):\n",
    "            mus[i, :] = np.sum(X*kappa[:,i].reshape((-1,1)), axis=0)/Nk[i]             \n",
    "            Sigmas[i][...] = np.sum((X-mus[i,:]).T*(X-mus[i,:]).T[:,np.newaxis,:]*kappa[:,i], axis=2)/Nk[i]\n",
    "        pi = Nk[i]/np.sum(Nk) \n",
    "        \n",
    "        ll = np.sum(np.log(np.sum(probs * pi, axis=1)))\n",
    "        # convergence check: let us run w/o this for now.\n",
    "        #if len(LL) > 0 and np.abs(ll - LL[-1]) < np.finfo(float).eps:\n",
    "        #    break\n",
    "        LL.append(ll)  # sum all the errors\n",
    "            \n",
    "    return kappa, mus, Sigmas, pi, LL"
   ]
  },
  {
   "cell_type": "code",
   "execution_count": null,
   "metadata": {
    "collapsed": true
   },
   "outputs": [],
   "source": []
  },
  {
   "cell_type": "markdown",
   "metadata": {},
   "source": [
    "Let us bring back our old example."
   ]
  },
  {
   "cell_type": "code",
   "execution_count": 71,
   "metadata": {},
   "outputs": [
    {
     "data": {
      "text/plain": [
       "(-3, 7)"
      ]
     },
     "execution_count": 71,
     "metadata": {},
     "output_type": "execute_result"
    },
    {
     "data": {
      "image/png": "[encoded data removed]",
      "text/plain": [
       "<matplotlib.figure.Figure at 0x11e6dbbe0>"
      ]
     },
     "metadata": {},
     "output_type": "display_data"
    }
   ],
   "source": [
    "# simulated samples\n",
    "\n",
    "mu1 = [-1, -1]\n",
    "cov1 = np.eye(2)\n",
    "\n",
    "mu2 = [2,3]\n",
    "cov2 = np.eye(2) * 3\n",
    "\n",
    "C1 = np.random.multivariate_normal(mu1, cov1, 50)\n",
    "C2 = np.random.multivariate_normal(mu2, cov2, 50)\n",
    "\n",
    "plt.plot(C1[:, 0], C1[:, 1], 'or')\n",
    "plt.plot(C2[:, 0], C2[:, 1], 'xb')\n",
    "\n",
    "plt.xlim([-3, 6])\n",
    "plt.ylim([-3, 7])"
   ]
  },
  {
   "cell_type": "code",
   "execution_count": 68,
   "metadata": {
    "collapsed": true
   },
   "outputs": [],
   "source": [
    "Test = np.array([[1,2,3,4],[2,3,4,5]]).T*np.array([[1,2,3,4],[2,3,4,5]]).T[:,np.newaxis,:]*np.array([1,2])"
   ]
  },
  {
   "cell_type": "code",
   "execution_count": 72,
   "metadata": {
    "collapsed": true
   },
   "outputs": [],
   "source": [
    "from matplotlib.colors import BASE_COLORS\n",
    "COLORS = list(BASE_COLORS.keys())[:-1]\n",
    "\n",
    "# scatter plots for K classes\n",
    "def kscatter_plot(X, classes):\n",
    "    K = len(np.unique(classes))\n",
    "    Cs = [X[classes == k] for k in range(K)]\n",
    "    csm = [''.join([c,'.']) for c in COLORS]\n",
    "    mum = [''.join([c,'x']) for c in COLORS[::-1]]\n",
    "\n",
    "    for k in range(K):\n",
    "        plt.plot(Cs[k][:,0], Cs[k][:, 1], csm[k])\n",
    "        plt.plot(mus[k][0], mus[k][1], mum[k], markersize=10)"
   ]
  },
  {
   "cell_type": "code",
   "execution_count": null,
   "metadata": {
    "collapsed": true
   },
   "outputs": [],
   "source": []
  },
  {
   "cell_type": "code",
   "execution_count": 91,
   "metadata": {},
   "outputs": [
    {
     "name": "stdout",
     "output_type": "stream",
     "text": [
      "[0 0 1 0 0 0 0 0 0 0 0 0 0 0 0 1 0 0 0 0 0 0 0 0 0 0 0 0 0 0 0 0 0 0 0 0 0\n",
      " 0 0 0 0 0 0 0 0 0 0 0 0 0 1 1 1 1 1 1 1 1 1 1 1 1 1 1 1 1 1 1 1 1 1 1 1 1\n",
      " 1 1 1 1 1 1 1 1 1 1 1 1 1 1 1 1 1 1 1 1 1 1 1 1 1 1]\n",
      "----means-------------\n",
      "[[-0.87611123 -0.94328701]\n",
      " [ 1.82415074  3.21750475]]\n",
      "----Class k: Cov-Mat----\n",
      "[[ 0.66601998 -0.2097341 ]\n",
      " [-0.2097341   0.75240494]]\n",
      "----Class k: Cov-Mat----\n",
      "[[ 3.28487293  0.42654721]\n",
      " [ 0.42654721  2.46126009]]\n"
     ]
    },
    {
     "data": {
      "text/plain": [
       "Text(0,0.5,'log-likilihood')"
      ]
     },
     "execution_count": 91,
     "metadata": {},
     "output_type": "execute_result"
    },
    {
     "data": {
      "image/png": "[encoded data removed]",
      "text/plain": [
       "<matplotlib.figure.Figure at 0x11e84cf28>"
      ]
     },
     "metadata": {},
     "output_type": "display_data"
    },
    {
     "data": {
      "image/png": "[encoded data removed]",
      "text/plain": [
       "<matplotlib.figure.Figure at 0x11e84c128>"
      ]
     },
     "metadata": {},
     "output_type": "display_data"
    },
    {
     "data": {
      "image/png": "[encoded data removed]",
      "text/plain": [
       "<matplotlib.figure.Figure at 0x11edef390>"
      ]
     },
     "metadata": {},
     "output_type": "display_data"
    }
   ],
   "source": [
    "# applying gmm on this data\n",
    "X = np.vstack((C1, C2))\n",
    "K = 2\n",
    "\n",
    "ks, mus, sigmas, pi, ll = GMM(X, 2, 1000)\n",
    "\n",
    "classes = np.argmax(ks, axis=1)\n",
    "print(classes)\n",
    "\n",
    "print(\"----means-------------\")\n",
    "print(mus)\n",
    "for k in range(K):\n",
    "    print(\"----Class k: Cov-Mat----\")\n",
    "    print(sigmas[k])\n",
    "\n",
    "\n",
    "plt.plot(classes)\n",
    "plt.ylabel('classes')\n",
    "plt.xlabel('samples')\n",
    "\n",
    "plt.figure()\n",
    "kscatter_plot(X, classes)\n",
    "# Cs = [X[classes == k] for k in range(K)]\n",
    "# csm = ['m.', 'c.']\n",
    "# mum = ['rx', 'bx']\n",
    "\n",
    "# for k in range(K):\n",
    "#     plt.plot(Cs[k][:,0], Cs[k][:, 1], csm[k])\n",
    "#     plt.plot(mus[k][0], mus[k][1], mum[k])\n",
    "\n",
    "plt.figure()\n",
    "plt.plot(ll)\n",
    "plt.ylabel(\"log-likilihood\")"
   ]
  },
  {
   "cell_type": "markdown",
   "metadata": {},
   "source": [
    "## K-means vs GMM with data with different variances "
   ]
  },
  {
   "cell_type": "code",
   "execution_count": 92,
   "metadata": {},
   "outputs": [
    {
     "data": {
      "text/plain": [
       "[<matplotlib.lines.Line2D at 0x11c925f60>]"
      ]
     },
     "execution_count": 92,
     "metadata": {},
     "output_type": "execute_result"
    },
    {
     "data": {
      "image/png": "[encoded data removed]",
      "text/plain": [
       "<matplotlib.figure.Figure at 0x11e834550>"
      ]
     },
     "metadata": {},
     "output_type": "display_data"
    }
   ],
   "source": [
    "mu1 = [-2, 2]\n",
    "cov1 = np.eye(2)\n",
    "\n",
    "mu2 = [2,2]\n",
    "cov2 = np.eye(2)\n",
    "\n",
    "mu3 = [0,-8]\n",
    "cov3 = np.eye(2) * 5\n",
    "\n",
    "C1 = np.random.multivariate_normal(mu1, cov1, 50)\n",
    "C2 = np.random.multivariate_normal(mu2, cov2, 50)\n",
    "C3 = np.random.multivariate_normal(mu3, cov3, 50)\n",
    "\n",
    "plt.plot(C1[:, 0], C1[:, 1], 'or')\n",
    "plt.plot(C2[:, 0], C2[:, 1], 'xy')\n",
    "plt.plot(C3[:, 0], C3[:, 1], '^b')"
   ]
  },
  {
   "cell_type": "code",
   "execution_count": 93,
   "metadata": {},
   "outputs": [
    {
     "data": {
      "image/png": "[encoded data removed]",
      "text/plain": [
       "<matplotlib.figure.Figure at 0x11e95b7b8>"
      ]
     },
     "metadata": {},
     "output_type": "display_data"
    }
   ],
   "source": [
    "Xvs = np.vstack((C1, C2, C3))\n",
    "\n",
    "mus, classes, errs = kmeans(Xvs, K=3)\n",
    "\n",
    "kscatter_plot(Xvs, classes)"
   ]
  },
  {
   "cell_type": "code",
   "execution_count": null,
   "metadata": {
    "collapsed": true
   },
   "outputs": [],
   "source": []
  },
  {
   "cell_type": "code",
   "execution_count": 94,
   "metadata": {},
   "outputs": [
    {
     "data": {
      "image/png": "[encoded data removed]",
      "text/plain": [
       "<matplotlib.figure.Figure at 0x11e9098d0>"
      ]
     },
     "metadata": {},
     "output_type": "display_data"
    }
   ],
   "source": [
    "ks, mus, sigmas, pi, ll = GMM(Xvs, 3, 1000)\n",
    "\n",
    "classes = np.argmax(ks, axis=1)\n",
    "\n",
    "kscatter_plot(Xvs, classes)"
   ]
  },
  {
   "cell_type": "code",
   "execution_count": null,
   "metadata": {
    "collapsed": true
   },
   "outputs": [],
   "source": []
  },
  {
   "cell_type": "markdown",
   "metadata": {},
   "source": [
    "## How to choose the initial centers for GMM? "
   ]
  },
  {
   "cell_type": "code",
   "execution_count": 95,
   "metadata": {
    "collapsed": true
   },
   "outputs": [],
   "source": [
    "def GMM(X, K=2, maxiter=100, init=None):\n",
    "    \"\"\" Gaussian Mixture Model\n",
    "    \n",
    "        Parameters\n",
    "        ----------\n",
    "        X         ndarray (N x D)\n",
    "                  input data to cluster\n",
    "        K         int\n",
    "                  the number of clusters\n",
    "        maxiter   int\n",
    "                  the maximum number of iteration\n",
    "        init      string\n",
    "                  kmeans init or random\n",
    "        \n",
    "        Returns\n",
    "        -------\n",
    "        @kappa    ndarray (N x K)\n",
    "                  responsibilities for each class\n",
    "        @mus      ndarray (K x D)\n",
    "                  centers for clusters\n",
    "        @Sigmas   list of ndarray (D x D)\n",
    "                  list of covariance matrices\n",
    "        @pi       vector (K,)\n",
    "                  mixing coefficient\n",
    "        @LL       list\n",
    "                  log-likelihood log\n",
    "    \"\"\"\n",
    "    N, D = X.shape\n",
    "    \n",
    "    if init is None:\n",
    "        # select initial centers - randomly for now, but YOU CAN USE K-MEANS for initial assignment\n",
    "        cidx = np.random.choice(N, K, replace=False)\n",
    "        mus = X[cidx, :]\n",
    "        Sigmas = [np.eye(D) for k in range(K)]  # uni-variance\n",
    "        pi = np.array([1/K] * K)\n",
    "    else:\n",
    "        # init with kmeans\n",
    "        mus, classes, errs = kmeans(X, K=3)\n",
    "        Nk = np.bincount(classes)\n",
    "        pi = Nk / N\n",
    "        mus = np.asarray(mus)\n",
    "        Sigmas = [np.cov(X[classes==k].T) for k in range(K)]\n",
    "    \n",
    "    LL = []  # LogLikelihood log - expected to monotonically increasing\n",
    "    \n",
    "    # TODO: Finish GMM with your previous codes\n",
    "    # repeat until convergence or up to maxiter\n",
    "    for step in range(maxiter):\n",
    "        # Expectation\n",
    "        probs = mixnorm_dist(X, mus, Sigmas) \n",
    "        kappa = probs / np.sum(probs, axis=1, keepdims=True)\n",
    "        classes = np.argmax(kappa, axis=1)\n",
    "        \n",
    "        # Maximization\n",
    "        Nk = np.bincount(classes)\n",
    "        for i in range(K):\n",
    "            mus[i, :] = np.sum(X*kappa[:,i].reshape((-1,1)), axis=0)/Nk[i]             \n",
    "            Sigmas[i][...] = np.sum((X-mus[i,:]).T*(X-mus[i,:]).T[:,np.newaxis,:]*kappa[:,i], axis=2)/Nk[i]\n",
    "        pi = Nk[i]/np.sum(Nk) \n",
    "        \n",
    "        ll = np.sum(np.log(np.sum(probs * pi, axis=1)))\n",
    "        # convergence check: let us run w/o this for now.\n",
    "        #if len(LL) > 0 and np.abs(ll - LL[-1]) < np.finfo(float).eps:\n",
    "        #    break\n",
    "        LL.append(ll)  # sum all the errors\n",
    "            \n",
    "    return kappa, mus, Sigmas, pi, LL"
   ]
  },
  {
   "cell_type": "code",
   "execution_count": null,
   "metadata": {
    "collapsed": true
   },
   "outputs": [],
   "source": []
  },
  {
   "cell_type": "code",
   "execution_count": 96,
   "metadata": {},
   "outputs": [
    {
     "data": {
      "image/png": "[encoded data removed]",
      "text/plain": [
       "<matplotlib.figure.Figure at 0x11e909c50>"
      ]
     },
     "metadata": {},
     "output_type": "display_data"
    }
   ],
   "source": [
    "ks, mus, sigmas, pi, ll = GMM(Xvs, 3, 1000, init='kmeans')\n",
    "\n",
    "classes = np.argmax(ks, axis=1)\n",
    "\n",
    "kscatter_plot(Xvs, classes)"
   ]
  },
  {
   "cell_type": "markdown",
   "metadata": {},
   "source": [
    "<hr/>\n",
    "<hr/>\n",
    "# Dimensionality Reduction\n",
    "\n",
    "# Principal Component Analysis (PCA)\n",
    "\n",
    "Principal Component Analysis (PCA) is one of the dimensionality reduction tools. \n",
    "PCA is also used for feature extraction, data compression, and data visualization. \n",
    "It is also known as Karhunen-Loeve (KL) transform.\n",
    "\n",
    "PCA reduces the dimension of the data by finding the data samples that vary the most. \n",
    "For this reason, we first look at the variance of the data. \n",
    "\n",
    "$$\n",
    "var(\\zv) = \\frac{1}{N} \\sum_{n=1}^{N} \\zv_n^2 \n",
    "$$\n",
    "\n",
    "From the variance, PCA finds the orthogonal projection of the data onto the *principal subspace*, which is a lower dimensional linear space. \n",
    "Now, let us look for a direction $\\vv$ that maximazes the variances.\n",
    "Here, $\\vv$ is a unit vector, so the dot product represents a projection onto it. \n",
    "The projection of data $\\xv_n$ onto $\\vv$ is \n",
    "\n",
    "$$\n",
    "\\zv = \\xv_n^\\top \\vv.\n",
    "$$\n",
    "\n",
    "The variance of this projected data $\\zv$ is \n",
    "\n",
    "$$\n",
    "\\begin{align*}\n",
    "var(\\zv) &= \\frac{1}{N} \\sum_{n=1}^{N} \\vv^\\top \\xv_n \\xv_n^\\top \\vv \\\\\n",
    "         &= \\vv^\\top \\Big( \\frac{1}{N} \\sum_{n=1}^{N} \\xv_n \\xv_n^\\top \\Big) \\vv \\\\\n",
    "         &= \\vv^\\top \\Sigmav \\vv\n",
    "\\end{align*}\n",
    "$$\n",
    "\n",
    "where $\\Sigmav$ is a covariance matrix of $\\xv_n$.\n",
    "\n",
    "## Optimization Problem\n",
    "\n",
    "$$\n",
    "\\begin{equation*}\n",
    "\\begin{aligned}\n",
    "& \\underset{\\vv}{\\text{maximize}}\n",
    "& & \\vv^\\top \\Sigmav \\vv \\\\\n",
    "& \\text{subject to}\n",
    "& & \\vv^\\top \\vv = 1.\n",
    "\\end{aligned}\n",
    "\\end{equation*}$$\n",
    "\n",
    "Using a Lagrange multiplier that is denoted by $\\lambda$, we can make an unconstrained maximization of\n",
    "\n",
    "$$\n",
    "q(\\vv) = \\vv^\\top \\Sigmav \\vv + \\lambda ( 1 - \\vv^\\top \\vv). \n",
    "$$\n",
    "\n",
    "As usual, setting the derivative w.r.t. $\\vv$, we can get\n",
    "\n",
    "$$\n",
    "0 = 2 \\Sigmav \\vv - 2 \\lambda \\vv, \n",
    "$$\n",
    "\n",
    "$$\n",
    "\\lambda \\vv = \\Sigmav \\vv.\n",
    "$$\n",
    "\n",
    "We can see that the direction vector $\\vv$ is an eigenvector!\n",
    "\n",
    "Also, since $\\vv$ is a unit vector, we can apply $\\vv^\\top \\vv = 1$ by left-multiplying $\\vv^\\top$,\n",
    "\n",
    "$$\n",
    "\\lambda = \\vv^\\top \\Sigmav \\vv.\n",
    "$$\n",
    "\n",
    "So, we can obtain the maximum variance when $\\vv$ is the eigenvector having the largest eigenvalue $\\lambda$. \n",
    "This eigenvector is called as the *first principal component*. \n",
    "\n",
    "Other principal components, or other directions that are orthogonal to the first principal component, are found by the eigendecomposition of $\\Sigmav$, or the singular value decomposition of data sample matrix $\\Xm$ <u>**with zero means**</u>. \n",
    "\n",
    "$$\n",
    "\\Xm = \\Um \\Lambdav^{\\frac{1}{2}} \\Vm^\\top,\n",
    "$$\n",
    "\n",
    "where the $\\Lambdav$ is a diagonal matrix with eigenvalue elements. \n",
    "\n",
    "\n",
    "For implementation, we need to keep track of shapes of each matrix. \n",
    "\n",
    "- $\\Xm$: N x D\n",
    "\n",
    "- $\\Um$: N x D\n",
    "\n",
    "- $\\Lambdav$: D x D\n",
    "\n",
    "- $\\Vm$: D x D\n"
   ]
  },
  {
   "cell_type": "code",
   "execution_count": 148,
   "metadata": {
    "collapsed": true
   },
   "outputs": [],
   "source": [
    "import numpy as np\n",
    "import matplotlib.pyplot as plt\n",
    "%matplotlib inline"
   ]
  },
  {
   "cell_type": "code",
   "execution_count": 101,
   "metadata": {
    "collapsed": true
   },
   "outputs": [],
   "source": [
    "# PCA \n",
    "\n",
    "def pca(X):\n",
    "    \"\"\" principal component analysis\n",
    "    \n",
    "        parameter\n",
    "        ---------\n",
    "        X        ndarray (N x D)\n",
    "                 input data\n",
    "                 \n",
    "        return\n",
    "        ------\n",
    "        @U       ndarray (N x D)\n",
    "                 left singular vectors\n",
    "        @S       ndarray (D x D)\n",
    "                 diagonal matrix with square root of eigenvalues\n",
    "        @V       ndarray (D x D)\n",
    "                 right singular vectors\n",
    "        @mu      ndarray (D,)\n",
    "                 1d vector of column means \n",
    "    \"\"\"\n",
    "    \n",
    "    ### TODO: implement PCA using np.linalg.svd\n",
    "    means=np.mean(X, axis=0)\n",
    "    U, S, V = np.linalg.svd(X, full_matrices=False)\n",
    "    \n",
    "    return U, S, V.T, means"
   ]
  },
  {
   "cell_type": "code",
   "execution_count": null,
   "metadata": {
    "collapsed": true
   },
   "outputs": [],
   "source": []
  },
  {
   "cell_type": "code",
   "execution_count": null,
   "metadata": {
    "collapsed": true
   },
   "outputs": [],
   "source": []
  },
  {
   "cell_type": "code",
   "execution_count": 98,
   "metadata": {},
   "outputs": [
    {
     "data": {
      "text/plain": [
       "(-8, 8)"
      ]
     },
     "execution_count": 98,
     "metadata": {},
     "output_type": "execute_result"
    },
    {
     "data": {
      "image/png": "[encoded data removed]",
      "text/plain": [
       "<matplotlib.figure.Figure at 0x11e7d0240>"
      ]
     },
     "metadata": {},
     "output_type": "display_data"
    }
   ],
   "source": [
    "mu1 = np.array([0, 0])\n",
    "S1 = np.eye(2)\n",
    "\n",
    "X1 = np.random.multivariate_normal(mu1, S1, 300)\n",
    "\n",
    "plt.figure(figsize=(6,6))\n",
    "plt.plot(X1[:, 0], X1[:, 1], 'ob')\n",
    "plt.xlim([-8, 8])\n",
    "plt.ylim([-8, 8])"
   ]
  },
  {
   "cell_type": "code",
   "execution_count": null,
   "metadata": {
    "collapsed": true
   },
   "outputs": [],
   "source": []
  },
  {
   "cell_type": "code",
   "execution_count": 99,
   "metadata": {},
   "outputs": [
    {
     "name": "stderr",
     "output_type": "stream",
     "text": [
      "/Users/syc042813/anaconda3/lib/python3.6/site-packages/ipykernel_launcher.py:4: RuntimeWarning: covariance is not positive-semidefinite.\n",
      "  after removing the cwd from sys.path.\n"
     ]
    },
    {
     "data": {
      "text/plain": [
       "(-8, 8)"
      ]
     },
     "execution_count": 99,
     "metadata": {},
     "output_type": "execute_result"
    },
    {
     "data": {
      "image/png": "[encoded data removed]",
      "text/plain": [
       "<matplotlib.figure.Figure at 0x11e742a90>"
      ]
     },
     "metadata": {},
     "output_type": "display_data"
    }
   ],
   "source": [
    "mu2 = np.array([2, 1])\n",
    "S2 = np.array([[1,2],[0.5,3]])\n",
    "\n",
    "X2 = np.random.multivariate_normal(mu2, S2, 300)\n",
    "\n",
    "plt.figure(figsize=(6,6))\n",
    "plt.plot(X2[:, 0], X2[:, 1], 'ob')\n",
    "plt.xlim([-8, 8])\n",
    "plt.ylim([-8, 8])"
   ]
  },
  {
   "cell_type": "code",
   "execution_count": null,
   "metadata": {
    "collapsed": true
   },
   "outputs": [],
   "source": []
  },
  {
   "cell_type": "code",
   "execution_count": 102,
   "metadata": {},
   "outputs": [],
   "source": [
    "U, L, V, m1 = pca(X1)"
   ]
  },
  {
   "cell_type": "code",
   "execution_count": null,
   "metadata": {
    "collapsed": true
   },
   "outputs": [],
   "source": []
  },
  {
   "cell_type": "code",
   "execution_count": null,
   "metadata": {
    "collapsed": true
   },
   "outputs": [],
   "source": []
  },
  {
   "cell_type": "code",
   "execution_count": 103,
   "metadata": {},
   "outputs": [
    {
     "data": {
      "text/plain": [
       "array([ 18.868889 ,  16.2395782])"
      ]
     },
     "execution_count": 103,
     "metadata": {},
     "output_type": "execute_result"
    }
   ],
   "source": [
    "L"
   ]
  },
  {
   "cell_type": "code",
   "execution_count": null,
   "metadata": {
    "collapsed": true
   },
   "outputs": [],
   "source": []
  },
  {
   "cell_type": "code",
   "execution_count": 104,
   "metadata": {},
   "outputs": [
    {
     "data": {
      "text/plain": [
       "array([[ -1.72097421e-02,   8.15218460e-02],\n",
       "       [ -1.00103749e-02,  -1.21721282e-01],\n",
       "       [ -4.71328825e-02,   6.34606703e-02],\n",
       "       [ -1.15787395e-02,   6.70504820e-02],\n",
       "       [ -8.32870494e-02,  -1.23215705e-02],\n",
       "       [ -1.20859106e-01,  -1.62176158e-02],\n",
       "       [ -3.67563746e-02,   3.81702200e-02],\n",
       "       [  4.07127099e-02,  -8.65826279e-04],\n",
       "       [  2.65853997e-02,   7.97938205e-02],\n",
       "       [ -4.84947466e-02,  -7.13541508e-02],\n",
       "       [ -8.25876349e-02,   9.74714772e-02],\n",
       "       [ -4.14684745e-02,   2.50217941e-02],\n",
       "       [ -3.87773183e-02,   3.03471310e-02],\n",
       "       [  1.92844681e-02,   1.14633292e-01],\n",
       "       [  8.01543805e-02,  -1.01168868e-01],\n",
       "       [  4.31829823e-02,  -2.08043034e-02],\n",
       "       [ -2.94025028e-02,  -7.29442519e-02],\n",
       "       [  1.88457361e-02,  -4.69406750e-02],\n",
       "       [ -1.10316356e-03,  -2.85145524e-03],\n",
       "       [ -4.85364614e-02,   1.23548202e-02],\n",
       "       [ -1.17277534e-01,  -3.14883647e-03],\n",
       "       [  1.24265727e-01,  -5.95243270e-02],\n",
       "       [  1.13659708e-01,   2.07120497e-02],\n",
       "       [  3.70938045e-02,   5.26209849e-02],\n",
       "       [ -7.70281279e-02,  -6.42291661e-02],\n",
       "       [  4.13739434e-02,   6.97302914e-02],\n",
       "       [ -1.14408035e-01,   1.64488272e-02],\n",
       "       [  2.57150542e-02,  -6.16443234e-02],\n",
       "       [ -3.74842223e-02,   1.23442301e-02],\n",
       "       [ -5.82729447e-02,   4.11937382e-02],\n",
       "       [  1.05720554e-01,   1.52066149e-03],\n",
       "       [  8.48252636e-03,  -7.35858379e-02],\n",
       "       [  8.74859469e-02,  -8.75834412e-02],\n",
       "       [ -1.27975956e-01,   3.18453976e-02],\n",
       "       [ -1.39861729e-01,  -2.89871158e-02],\n",
       "       [ -5.90880538e-03,  -9.93700587e-02],\n",
       "       [ -2.03611794e-02,   3.72331070e-02],\n",
       "       [ -8.20291555e-02,   5.15495725e-02],\n",
       "       [ -5.09163195e-02,   7.03579783e-02],\n",
       "       [  6.77247060e-03,  -1.59455573e-01],\n",
       "       [ -6.13238763e-02,   5.49751809e-02],\n",
       "       [ -4.17884462e-02,   1.20013943e-02],\n",
       "       [ -9.41817214e-02,  -2.09730416e-02],\n",
       "       [ -1.19174213e-01,  -9.51302220e-02],\n",
       "       [  7.11800419e-02,   7.29394228e-02],\n",
       "       [  7.18704468e-02,  -2.35213894e-02],\n",
       "       [  7.56843791e-02,  -3.10394372e-02],\n",
       "       [  2.76481106e-02,  -8.35069959e-03],\n",
       "       [  2.94725988e-02,   3.70505372e-04],\n",
       "       [ -5.52076943e-02,   3.07482727e-02],\n",
       "       [  8.99272484e-03,   5.26425564e-02],\n",
       "       [ -3.21643407e-02,  -3.03482314e-02],\n",
       "       [  7.39677902e-02,   9.18865767e-02],\n",
       "       [ -5.43915018e-02,   3.98826629e-02],\n",
       "       [ -2.33691592e-02,  -7.01728643e-03],\n",
       "       [  8.58424006e-02,   7.32115876e-02],\n",
       "       [ -1.45718368e-02,   5.50604762e-02],\n",
       "       [ -5.32449767e-03,   3.34199036e-02],\n",
       "       [  4.44500240e-03,  -6.65646906e-02],\n",
       "       [ -3.40131157e-02,   2.18682432e-02],\n",
       "       [ -3.46424456e-02,   7.15460282e-02],\n",
       "       [  4.10407064e-02,  -4.09250885e-02],\n",
       "       [  1.38724558e-01,   5.77313941e-03],\n",
       "       [ -1.04154516e-01,   8.04980663e-02],\n",
       "       [ -5.79566673e-02,  -1.39383360e-01],\n",
       "       [  1.04226008e-01,   4.11332659e-02],\n",
       "       [  1.38417607e-02,   6.07640676e-02],\n",
       "       [  3.81445559e-02,  -9.44609056e-02],\n",
       "       [ -1.02928700e-01,   7.79161617e-02],\n",
       "       [ -1.18127019e-02,  -5.17066155e-03],\n",
       "       [  4.15603725e-04,   8.83307081e-02],\n",
       "       [ -1.97400814e-02,   7.99123621e-03],\n",
       "       [ -6.45376467e-02,  -2.30987267e-02],\n",
       "       [  1.30745243e-01,   5.33908533e-02],\n",
       "       [  2.49350502e-02,  -2.29514546e-02],\n",
       "       [ -6.92005453e-02,  -1.20014923e-02],\n",
       "       [ -5.73064165e-02,   3.67930411e-03],\n",
       "       [ -3.71404014e-03,   1.96347190e-03],\n",
       "       [ -2.99055704e-02,  -3.63470544e-02],\n",
       "       [  7.21336022e-02,  -2.40607938e-02],\n",
       "       [ -5.40298655e-03,   1.34741410e-02],\n",
       "       [ -5.22993370e-03,   2.97095118e-02],\n",
       "       [  1.85672523e-02,  -4.27497730e-02],\n",
       "       [  5.04089414e-03,   6.16191556e-02],\n",
       "       [  3.96468948e-02,   3.45991682e-02],\n",
       "       [  3.88561653e-02,   1.28691193e-02],\n",
       "       [  2.30472063e-03,  -3.25626182e-02],\n",
       "       [ -3.31602649e-02,   1.69772372e-02],\n",
       "       [ -3.48402456e-02,  -6.09318574e-02],\n",
       "       [ -9.19250221e-02,  -5.63481868e-03],\n",
       "       [ -1.63190230e-02,   1.03480186e-02],\n",
       "       [  7.34513768e-02,  -6.59068622e-02],\n",
       "       [  9.33810209e-02,  -6.41123869e-02],\n",
       "       [  3.68643719e-02,  -1.20647200e-01],\n",
       "       [ -1.29647079e-02,  -6.34275671e-02],\n",
       "       [ -4.30747341e-02,   1.36722728e-02],\n",
       "       [  6.25261591e-03,  -4.01947301e-02],\n",
       "       [  4.27580035e-03,   6.78121546e-02],\n",
       "       [  9.61743414e-02,  -2.79117035e-02],\n",
       "       [ -2.08720832e-02,  -1.72442024e-02],\n",
       "       [ -3.38769533e-02,  -9.87546509e-02],\n",
       "       [  4.76098562e-02,  -1.00770125e-01],\n",
       "       [  1.17521817e-03,   3.36290816e-03],\n",
       "       [ -1.71841669e-01,   1.30217978e-03],\n",
       "       [  5.65707186e-02,  -2.67638218e-02],\n",
       "       [  7.80518593e-02,  -4.68410782e-02],\n",
       "       [  7.19782913e-02,   3.00599480e-02],\n",
       "       [  2.14968498e-02,  -9.01627683e-02],\n",
       "       [  2.13545265e-02,  -9.29864068e-02],\n",
       "       [  3.18346273e-03,   1.92312394e-02],\n",
       "       [ -2.86311089e-02,   5.88304435e-02],\n",
       "       [ -1.17417798e-02,   1.18007950e-01],\n",
       "       [ -4.43936240e-02,  -7.72736951e-02],\n",
       "       [  9.73502770e-02,  -5.67474517e-03],\n",
       "       [  9.27715946e-02,   8.70248684e-02],\n",
       "       [  8.12730456e-02,  -2.91428678e-02],\n",
       "       [ -4.27827086e-02,  -6.31229155e-02],\n",
       "       [  5.20605260e-02,   5.54514422e-02],\n",
       "       [  1.04634748e-02,   1.60656070e-02],\n",
       "       [ -1.19108310e-02,   9.22918519e-02],\n",
       "       [ -3.35624345e-02,  -4.39451999e-04],\n",
       "       [  1.06776143e-01,   6.57086626e-02],\n",
       "       [  1.34496333e-02,   4.49821661e-02],\n",
       "       [ -7.78085458e-02,  -3.77791335e-02],\n",
       "       [  2.19777329e-02,   1.32655562e-02],\n",
       "       [ -4.43959828e-02,   2.55403169e-02],\n",
       "       [  3.74325006e-02,   4.08533937e-02],\n",
       "       [  1.76365555e-02,   8.20597673e-02],\n",
       "       [ -4.05973765e-02,   2.98500629e-02],\n",
       "       [ -7.88503701e-02,   4.75002665e-02],\n",
       "       [ -6.87789017e-02,  -2.58884366e-02],\n",
       "       [  5.86247156e-02,  -3.39222310e-02],\n",
       "       [ -4.90814289e-02,  -1.07322618e-02],\n",
       "       [ -3.22432002e-02,  -4.52043428e-02],\n",
       "       [ -1.22084721e-01,  -1.00818019e-01],\n",
       "       [  4.80557310e-02,  -4.77960411e-02],\n",
       "       [ -4.03282781e-02,   6.06795919e-02],\n",
       "       [  7.40716533e-02,  -1.10934016e-01],\n",
       "       [  5.51838401e-04,  -7.44635169e-03],\n",
       "       [  3.73868786e-02,  -2.93848819e-02],\n",
       "       [  8.91637087e-02,  -2.31135335e-02],\n",
       "       [  3.07659146e-02,  -3.39812841e-02],\n",
       "       [  1.65741621e-01,   3.06286426e-02],\n",
       "       [  1.06103003e-01,   6.38810288e-02],\n",
       "       [ -6.65141792e-02,  -1.07622375e-02],\n",
       "       [ -2.84018128e-03,   2.99842833e-02],\n",
       "       [ -4.77485149e-02,   1.27848077e-02],\n",
       "       [ -3.84682894e-02,   4.83943033e-02],\n",
       "       [ -9.98440295e-03,   6.59201704e-02],\n",
       "       [ -9.33363637e-03,   9.60922870e-02],\n",
       "       [  4.84550982e-03,  -2.17326066e-02],\n",
       "       [  6.93907848e-02,   5.25116479e-02],\n",
       "       [  1.03851858e-02,   2.50652115e-02],\n",
       "       [  5.04054126e-02,  -2.74508507e-02],\n",
       "       [ -4.33536042e-02,  -8.57353576e-03],\n",
       "       [ -7.19629186e-02,  -1.06450388e-01],\n",
       "       [  1.29580240e-02,  -1.90791631e-03],\n",
       "       [  5.18196572e-03,   8.07491110e-02],\n",
       "       [  3.39313468e-02,   1.18586204e-01],\n",
       "       [  1.22927331e-02,  -1.36496643e-02],\n",
       "       [ -1.02481751e-02,   7.31192566e-02],\n",
       "       [  1.88749267e-02,   1.76848069e-01],\n",
       "       [ -2.20389964e-02,   5.63662950e-02],\n",
       "       [  3.55594609e-02,  -6.29229986e-02],\n",
       "       [  1.54472929e-02,   7.60676756e-02],\n",
       "       [  1.06204367e-01,   3.88152405e-02],\n",
       "       [  1.41708882e-02,  -7.91203275e-02],\n",
       "       [  2.75745098e-02,   2.06080781e-02],\n",
       "       [  8.10413303e-02,   2.16369991e-02],\n",
       "       [  5.61088815e-02,   1.38566036e-02],\n",
       "       [  1.16863576e-01,   4.43557222e-02],\n",
       "       [  6.53535984e-02,   2.43919974e-02],\n",
       "       [ -3.90603401e-02,  -2.04458186e-02],\n",
       "       [  2.94582376e-02,   2.18063225e-02],\n",
       "       [  2.26475305e-02,   9.37573499e-02],\n",
       "       [ -5.71338410e-02,  -4.52469338e-02],\n",
       "       [  4.30274941e-02,  -6.22330866e-02],\n",
       "       [  5.52043667e-03,   3.63990207e-02],\n",
       "       [  6.57228927e-02,  -4.68969234e-03],\n",
       "       [ -5.25036273e-02,   7.76616525e-03],\n",
       "       [  3.76432073e-02,   1.38003600e-01],\n",
       "       [ -8.45783803e-03,  -8.95704326e-03],\n",
       "       [ -5.70058462e-02,   2.05170349e-02],\n",
       "       [ -9.21439311e-02,  -4.29618902e-02],\n",
       "       [  7.36904857e-02,   7.67717713e-03],\n",
       "       [  5.05790330e-03,   7.85558799e-02],\n",
       "       [ -4.87387261e-02,   1.12612837e-02],\n",
       "       [ -7.28357242e-02,   4.48429100e-02],\n",
       "       [ -2.23757151e-02,  -4.43514913e-02],\n",
       "       [  1.86632890e-02,  -7.45037580e-02],\n",
       "       [ -5.27999493e-02,  -2.58643445e-02],\n",
       "       [  1.53335316e-03,  -5.86475058e-03],\n",
       "       [  6.79428170e-02,  -3.11465723e-02],\n",
       "       [  2.59176866e-02,   1.71199612e-02],\n",
       "       [ -2.78226453e-02,  -8.07242665e-02],\n",
       "       [  2.36398793e-02,   9.52572751e-02],\n",
       "       [  3.39082193e-02,  -2.91928472e-02],\n",
       "       [ -2.16018825e-02,   3.99756484e-02],\n",
       "       [  8.59509971e-04,   6.77086031e-02],\n",
       "       [ -1.82975497e-02,   6.79981264e-02],\n",
       "       [  2.81643015e-02,  -5.24085137e-02],\n",
       "       [  5.63428040e-02,  -3.62839874e-02],\n",
       "       [  8.17365987e-02,  -1.48215490e-01],\n",
       "       [  7.51786197e-02,   2.83251758e-02],\n",
       "       [  4.36076926e-02,   2.54176172e-02],\n",
       "       [ -4.02645236e-02,  -5.86093893e-02],\n",
       "       [  2.03722054e-02,   4.53960133e-02],\n",
       "       [  4.84674753e-02,   5.17168955e-02],\n",
       "       [  3.99711285e-02,   7.55993391e-02],\n",
       "       [ -1.92683376e-02,   6.93812896e-03],\n",
       "       [  1.68937347e-02,  -3.26629809e-02],\n",
       "       [  2.13930067e-02,   1.59550957e-02],\n",
       "       [  4.31009834e-03,   2.17824686e-02],\n",
       "       [ -2.11271569e-02,   4.85514807e-02],\n",
       "       [  1.15791476e-02,  -5.85525596e-02],\n",
       "       [ -9.78250963e-02,  -7.22776900e-02],\n",
       "       [  9.66981134e-02,  -2.71167732e-02],\n",
       "       [ -6.59915811e-02,  -7.43356151e-03],\n",
       "       [ -4.30137794e-02,   3.22604512e-02],\n",
       "       [  2.05978338e-02,   7.77216462e-02],\n",
       "       [  3.98902473e-02,   3.58565577e-02],\n",
       "       [ -6.11187208e-02,   4.44171142e-02],\n",
       "       [  7.73071921e-02,  -2.04247536e-02],\n",
       "       [  7.56531993e-02,  -4.86420633e-03],\n",
       "       [  1.47998435e-01,   1.82891075e-02],\n",
       "       [ -7.22110271e-02,  -1.05010532e-01],\n",
       "       [  5.06236460e-02,   3.84454148e-02],\n",
       "       [ -5.77308814e-02,   8.74286386e-02],\n",
       "       [ -3.40915431e-03,  -3.70630974e-02],\n",
       "       [  1.09944823e-02,  -8.26693616e-02],\n",
       "       [  4.66929463e-02,  -7.27615584e-02],\n",
       "       [  6.44176655e-02,  -8.03933661e-02],\n",
       "       [ -8.46244512e-02,  -1.46446304e-02],\n",
       "       [  2.02739290e-02,   2.14455944e-02],\n",
       "       [ -4.61340481e-02,  -6.35889339e-02],\n",
       "       [ -5.93754792e-02,  -2.17262956e-02],\n",
       "       [ -6.19673705e-02,   1.45221089e-02],\n",
       "       [  3.67144892e-02,   2.95922412e-02],\n",
       "       [ -3.18400890e-02,   4.98705931e-02],\n",
       "       [ -6.83134870e-02,   3.94049117e-02],\n",
       "       [  5.93142372e-02,  -3.16638183e-03],\n",
       "       [ -8.75121394e-02,  -7.33247574e-02],\n",
       "       [  1.53094198e-02,  -1.66632002e-01],\n",
       "       [  1.13151815e-01,   9.92981463e-03],\n",
       "       [ -2.43775084e-03,   6.86759139e-03],\n",
       "       [  7.29923829e-02,   3.79367713e-02],\n",
       "       [  1.60927148e-02,  -5.85790935e-02],\n",
       "       [  6.71618162e-02,  -1.45509451e-02],\n",
       "       [ -3.62806269e-03,   3.07512657e-03],\n",
       "       [ -4.78513767e-02,  -3.22312267e-02],\n",
       "       [  5.57925354e-02,   4.77489656e-02],\n",
       "       [ -1.06452612e-02,   1.04261169e-01],\n",
       "       [ -5.20026550e-02,   6.87282562e-02],\n",
       "       [  1.58457865e-02,   8.78984851e-02],\n",
       "       [  1.63699225e-02,   1.32976512e-01],\n",
       "       [  6.78613985e-02,  -5.09322769e-02],\n",
       "       [ -1.24798689e-02,   1.69190260e-02],\n",
       "       [  3.73648086e-03,  -2.36014188e-02],\n",
       "       [  4.32265946e-02,  -1.30285159e-02],\n",
       "       [  2.72415231e-02,   3.61634629e-03],\n",
       "       [ -7.43497133e-02,   1.77955196e-02],\n",
       "       [ -1.26128777e-02,  -4.56193338e-03],\n",
       "       [ -1.00512609e-02,   1.40408678e-02],\n",
       "       [ -2.48043016e-02,  -1.80625525e-02],\n",
       "       [  3.66444678e-05,   3.53871020e-02],\n",
       "       [ -1.06730064e-01,  -3.24089891e-02],\n",
       "       [  4.41107739e-02,   5.56277484e-02],\n",
       "       [  1.50361532e-01,  -4.82527928e-02],\n",
       "       [  8.56104186e-02,  -5.93454803e-02],\n",
       "       [  2.52589518e-04,   4.64904366e-02],\n",
       "       [  3.53398193e-02,   1.04812630e-01],\n",
       "       [ -6.17845987e-03,  -7.15971154e-02],\n",
       "       [  3.28477704e-02,   1.21840754e-02],\n",
       "       [ -2.25993937e-02,   8.42087867e-02],\n",
       "       [ -5.90966866e-03,   7.08124152e-02],\n",
       "       [ -2.74485478e-02,   1.70827286e-02],\n",
       "       [ -1.00616154e-01,   8.41261357e-02],\n",
       "       [ -4.55176884e-02,   1.07080576e-02],\n",
       "       [  8.23885563e-03,  -3.23278758e-03],\n",
       "       [  3.04538555e-02,   2.01321321e-02],\n",
       "       [ -4.01872128e-02,   6.69530736e-02],\n",
       "       [ -3.07429904e-03,   4.99922061e-02],\n",
       "       [  2.50094387e-02,  -3.93320327e-02],\n",
       "       [  8.26821836e-02,   3.11112639e-02],\n",
       "       [ -1.49232020e-02,   2.96516636e-02],\n",
       "       [ -2.73302058e-02,   4.97251690e-02],\n",
       "       [  2.57276867e-02,  -1.36482432e-01],\n",
       "       [ -8.92173938e-02,  -1.26103227e-02],\n",
       "       [  6.12868378e-02,   4.51744600e-02],\n",
       "       [  8.97588896e-03,   3.37729634e-02],\n",
       "       [ -1.16740090e-02,   3.76353351e-03],\n",
       "       [  9.38945095e-02,  -4.42901418e-03],\n",
       "       [  5.62585513e-03,  -2.58495133e-02],\n",
       "       [  5.60395107e-02,  -6.32205772e-02],\n",
       "       [ -1.79708381e-02,  -6.29243811e-02],\n",
       "       [ -1.74685317e-02,  -7.94695922e-02],\n",
       "       [  7.42977805e-02,  -6.24539556e-02],\n",
       "       [  1.54931448e-02,   3.08462797e-02],\n",
       "       [  3.08384446e-03,   1.84872370e-02],\n",
       "       [ -6.61180149e-03,   1.19706817e-01]])"
      ]
     },
     "execution_count": 104,
     "metadata": {},
     "output_type": "execute_result"
    }
   ],
   "source": [
    "U"
   ]
  },
  {
   "cell_type": "code",
   "execution_count": null,
   "metadata": {
    "collapsed": true
   },
   "outputs": [],
   "source": []
  },
  {
   "cell_type": "code",
   "execution_count": 105,
   "metadata": {},
   "outputs": [
    {
     "data": {
      "text/plain": [
       "array([[-0.47438079,  0.88031975],\n",
       "       [-0.88031975, -0.47438079]])"
      ]
     },
     "execution_count": 105,
     "metadata": {},
     "output_type": "execute_result"
    }
   ],
   "source": [
    "V"
   ]
  },
  {
   "cell_type": "code",
   "execution_count": null,
   "metadata": {
    "collapsed": true
   },
   "outputs": [],
   "source": []
  },
  {
   "cell_type": "code",
   "execution_count": 106,
   "metadata": {},
   "outputs": [
    {
     "data": {
      "text/plain": [
       "(300, 2)"
      ]
     },
     "execution_count": 106,
     "metadata": {},
     "output_type": "execute_result"
    }
   ],
   "source": [
    "U.shape"
   ]
  },
  {
   "cell_type": "code",
   "execution_count": null,
   "metadata": {
    "collapsed": true
   },
   "outputs": [],
   "source": []
  },
  {
   "cell_type": "code",
   "execution_count": 108,
   "metadata": {},
   "outputs": [
    {
     "data": {
      "text/plain": [
       "array([ 18.868889 ,  16.2395782])"
      ]
     },
     "execution_count": 108,
     "metadata": {},
     "output_type": "execute_result"
    }
   ],
   "source": [
    "L"
   ]
  },
  {
   "cell_type": "code",
   "execution_count": null,
   "metadata": {
    "collapsed": true
   },
   "outputs": [],
   "source": []
  },
  {
   "cell_type": "code",
   "execution_count": null,
   "metadata": {
    "collapsed": true
   },
   "outputs": [],
   "source": []
  },
  {
   "cell_type": "code",
   "execution_count": 109,
   "metadata": {},
   "outputs": [
    {
     "data": {
      "text/plain": [
       "array([[-0.47438079,  0.88031975],\n",
       "       [-0.88031975, -0.47438079]])"
      ]
     },
     "execution_count": 109,
     "metadata": {},
     "output_type": "execute_result"
    }
   ],
   "source": [
    "V"
   ]
  },
  {
   "cell_type": "code",
   "execution_count": null,
   "metadata": {
    "collapsed": true
   },
   "outputs": [],
   "source": []
  },
  {
   "cell_type": "code",
   "execution_count": 110,
   "metadata": {
    "collapsed": true
   },
   "outputs": [],
   "source": [
    "COLORS = ['r', 'c', 'y']\n",
    "\n",
    "def plot_pca(X, V, mu, L):\n",
    "    plt.plot(X[:, 0], X[:, 1], 'ob')\n",
    "\n",
    "    for d in range(V.shape[1]):\n",
    "        l = np.sqrt(L[d])\n",
    "        print(l)\n",
    "        p1 = mu - l * V[:, d] \n",
    "        p2 = mu + l * V[:, d]\n",
    "        plt.plot([p1[0], p2[0]], [p1[1], p2[1]], color=COLORS[d], linewidth=5)\n",
    "\n"
   ]
  },
  {
   "cell_type": "code",
   "execution_count": null,
   "metadata": {
    "collapsed": true
   },
   "outputs": [],
   "source": []
  },
  {
   "cell_type": "code",
   "execution_count": 111,
   "metadata": {},
   "outputs": [
    {
     "name": "stdout",
     "output_type": "stream",
     "text": [
      "4.34383344544\n",
      "4.02983600168\n"
     ]
    },
    {
     "data": {
      "text/plain": [
       "array([ 18.868889 ,  16.2395782])"
      ]
     },
     "execution_count": 111,
     "metadata": {},
     "output_type": "execute_result"
    },
    {
     "data": {
      "image/png": "[encoded data removed]",
      "text/plain": [
       "<matplotlib.figure.Figure at 0x11f3191d0>"
      ]
     },
     "metadata": {},
     "output_type": "display_data"
    }
   ],
   "source": [
    "plt.figure(figsize=(6,6))\n",
    "plot_pca(X1, V, m1, L)\n",
    "plt.xlim([-8, 8])\n",
    "plt.ylim([-8, 8])\n",
    "L"
   ]
  },
  {
   "cell_type": "code",
   "execution_count": null,
   "metadata": {
    "collapsed": true
   },
   "outputs": [],
   "source": []
  },
  {
   "cell_type": "code",
   "execution_count": 112,
   "metadata": {
    "collapsed": true
   },
   "outputs": [],
   "source": [
    "U, L, V, m2 = pca(X2)"
   ]
  },
  {
   "cell_type": "code",
   "execution_count": null,
   "metadata": {
    "collapsed": true
   },
   "outputs": [],
   "source": []
  },
  {
   "cell_type": "code",
   "execution_count": 113,
   "metadata": {},
   "outputs": [
    {
     "name": "stdout",
     "output_type": "stream",
     "text": [
      "7.07036962562\n",
      "4.7831044845\n"
     ]
    },
    {
     "data": {
      "text/plain": [
       "array([ 49.99012664,  22.87808851])"
      ]
     },
     "execution_count": 113,
     "metadata": {},
     "output_type": "execute_result"
    },
    {
     "data": {
      "image/png": "[encoded data removed]",
      "text/plain": [
       "<matplotlib.figure.Figure at 0x11f1b7828>"
      ]
     },
     "metadata": {},
     "output_type": "display_data"
    }
   ],
   "source": [
    "plt.figure(figsize=(6,6))\n",
    "plot_pca(X2, V, m2, L)\n",
    "plt.xlim([-8, 8])\n",
    "plt.ylim([-8, 8])\n",
    "L"
   ]
  },
  {
   "cell_type": "code",
   "execution_count": null,
   "metadata": {
    "collapsed": true
   },
   "outputs": [],
   "source": []
  },
  {
   "cell_type": "code",
   "execution_count": 114,
   "metadata": {},
   "outputs": [
    {
     "data": {
      "text/plain": [
       "array([[-0.70782345,  0.70638939],\n",
       "       [-0.70638939, -0.70782345]])"
      ]
     },
     "execution_count": 114,
     "metadata": {},
     "output_type": "execute_result"
    }
   ],
   "source": [
    "V"
   ]
  },
  {
   "cell_type": "code",
   "execution_count": null,
   "metadata": {
    "collapsed": true
   },
   "outputs": [],
   "source": []
  },
  {
   "cell_type": "code",
   "execution_count": 115,
   "metadata": {},
   "outputs": [
    {
     "data": {
      "text/plain": [
       "(-10, 10)"
      ]
     },
     "execution_count": 115,
     "metadata": {},
     "output_type": "execute_result"
    },
    {
     "data": {
      "image/png": "[encoded data removed]",
      "text/plain": [
       "<matplotlib.figure.Figure at 0x11f405e10>"
      ]
     },
     "metadata": {},
     "output_type": "display_data"
    }
   ],
   "source": [
    "newX2 = (X2) @ V\n",
    "\n",
    "plt.plot(newX2[:, 0], newX2[:, 1], 'ob')\n",
    "plt.xlim([-10, 10])\n",
    "plt.ylim([-10, 10])"
   ]
  },
  {
   "cell_type": "code",
   "execution_count": null,
   "metadata": {
    "collapsed": true
   },
   "outputs": [],
   "source": []
  },
  {
   "cell_type": "markdown",
   "metadata": {},
   "source": [
    "# Review Standardization (Input Transformation)\n"
   ]
  },
  {
   "cell_type": "code",
   "execution_count": 116,
   "metadata": {},
   "outputs": [
    {
     "data": {
      "text/plain": [
       "(-10, 10)"
      ]
     },
     "execution_count": 116,
     "metadata": {},
     "output_type": "execute_result"
    },
    {
     "data": {
      "image/png": "[encoded data removed]",
      "text/plain": [
       "<matplotlib.figure.Figure at 0x11f3f4d30>"
      ]
     },
     "metadata": {},
     "output_type": "display_data"
    }
   ],
   "source": [
    "newX2 = (X2 - m2)\n",
    "\n",
    "plt.plot(newX2[:, 0], newX2[:, 1], 'ob')\n",
    "plt.xlim([-10, 10])\n",
    "plt.ylim([-10, 10])"
   ]
  },
  {
   "cell_type": "code",
   "execution_count": null,
   "metadata": {
    "collapsed": true
   },
   "outputs": [],
   "source": []
  },
  {
   "cell_type": "code",
   "execution_count": 117,
   "metadata": {},
   "outputs": [
    {
     "data": {
      "text/plain": [
       "(-10, 10)"
      ]
     },
     "execution_count": 117,
     "metadata": {},
     "output_type": "execute_result"
    },
    {
     "data": {
      "image/png": "[encoded data removed]",
      "text/plain": [
       "<matplotlib.figure.Figure at 0x11e7d0f28>"
      ]
     },
     "metadata": {},
     "output_type": "display_data"
    }
   ],
   "source": [
    "newX2 = (X2 - m2) @ V\n",
    "\n",
    "plt.plot(newX2[:, 0], newX2[:, 1], 'ob')\n",
    "plt.xlim([-10, 10])\n",
    "plt.ylim([-10, 10])"
   ]
  },
  {
   "cell_type": "code",
   "execution_count": null,
   "metadata": {
    "collapsed": true
   },
   "outputs": [],
   "source": []
  },
  {
   "cell_type": "code",
   "execution_count": 118,
   "metadata": {},
   "outputs": [
    {
     "data": {
      "text/plain": [
       "(-10, 10)"
      ]
     },
     "execution_count": 118,
     "metadata": {},
     "output_type": "execute_result"
    },
    {
     "data": {
      "image/png": "[encoded data removed]",
      "text/plain": [
       "<matplotlib.figure.Figure at 0x11e7f40b8>"
      ]
     },
     "metadata": {},
     "output_type": "display_data"
    }
   ],
   "source": [
    "newX2 = (X2 - m2) @ V \n",
    "newX2 /= np.std(newX2, 0)\n",
    "\n",
    "plt.plot(newX2[:, 0], newX2[:, 1], 'ob')\n",
    "plt.xlim([-10, 10])\n",
    "plt.ylim([-10, 10])"
   ]
  },
  {
   "cell_type": "code",
   "execution_count": null,
   "metadata": {
    "collapsed": true
   },
   "outputs": [],
   "source": []
  },
  {
   "cell_type": "markdown",
   "metadata": {},
   "source": [
    "### Input Transformation \n",
    "\n",
    "<img src=\"http://webpages.uncc.edu/mlee173/teach/itcs6156/images/class/input_transform.png\" width=600/>\n",
    "<center>(Lecun, 1998)</center>"
   ]
  }
 ],
 "metadata": {
  "kernelspec": {
   "display_name": "Python 3",
   "language": "python",
   "name": "python3"
  },
  "language_info": {
   "codemirror_mode": {
    "name": "ipython",
    "version": 3
   },
   "file_extension": ".py",
   "mimetype": "text/x-python",
   "name": "python",
   "nbconvert_exporter": "python",
   "pygments_lexer": "ipython3",
   "version": "3.6.3"
  }
 },
 "nbformat": 4,
 "nbformat_minor": 2
}
